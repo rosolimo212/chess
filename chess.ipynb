{
 "cells": [
  {
   "cell_type": "code",
   "execution_count": 1,
   "metadata": {
    "collapsed": false
   },
   "outputs": [
    {
     "name": "stdout",
     "output_type": "stream",
     "text": [
      "Populating the interactive namespace from numpy and matplotlib\n"
     ]
    }
   ],
   "source": [
    "import numpy as np\n",
    "import pandas as pd\n",
    "\n",
    "from sklearn.model_selection import train_test_split, StratifiedKFold\n",
    "from sklearn.neighbors import KNeighborsClassifier\n",
    "\n",
    "import scipy\n",
    "\n",
    "# будем отображать графики прямо в jupyter'e\n",
    "%pylab inline\n",
    "\n",
    "from pylab import rcParams\n",
    "rcParams['figure.figsize'] = 8, 5\n",
    "import seaborn as sns"
   ]
  },
  {
   "cell_type": "code",
   "execution_count": 2,
   "metadata": {
    "collapsed": true
   },
   "outputs": [],
   "source": [
    "data = pd.read_csv(\"training_data.csv\")"
   ]
  },
  {
   "cell_type": "code",
   "execution_count": 3,
   "metadata": {
    "collapsed": false
   },
   "outputs": [],
   "source": [
    "data['Score']=data['Score']+1\n",
    "# поражение 1, ничья 1.5 победа 2"
   ]
  },
  {
   "cell_type": "code",
   "execution_count": 4,
   "metadata": {
    "collapsed": false
   },
   "outputs": [],
   "source": [
    "data=data.rename(index=str, columns={\"Month #\": \"m\", \"White Player #\": \"w\", \"Black Player #\": \"b\", \"Score\": \"s\"})"
   ]
  },
  {
   "cell_type": "code",
   "execution_count": 5,
   "metadata": {
    "collapsed": false
   },
   "outputs": [
    {
     "data": {
      "text/html": [
       "<div>\n",
       "<table border=\"1\" class=\"dataframe\">\n",
       "  <thead>\n",
       "    <tr style=\"text-align: right;\">\n",
       "      <th></th>\n",
       "      <th>m</th>\n",
       "      <th>w</th>\n",
       "      <th>b</th>\n",
       "      <th>s</th>\n",
       "    </tr>\n",
       "  </thead>\n",
       "  <tbody>\n",
       "    <tr>\n",
       "      <th>0</th>\n",
       "      <td>1</td>\n",
       "      <td>73</td>\n",
       "      <td>1246</td>\n",
       "      <td>1.5</td>\n",
       "    </tr>\n",
       "    <tr>\n",
       "      <th>1</th>\n",
       "      <td>1</td>\n",
       "      <td>73</td>\n",
       "      <td>5097</td>\n",
       "      <td>1.5</td>\n",
       "    </tr>\n",
       "    <tr>\n",
       "      <th>2</th>\n",
       "      <td>1</td>\n",
       "      <td>73</td>\n",
       "      <td>5104</td>\n",
       "      <td>1.5</td>\n",
       "    </tr>\n",
       "  </tbody>\n",
       "</table>\n",
       "</div>"
      ],
      "text/plain": [
       "   m   w     b    s\n",
       "0  1  73  1246  1.5\n",
       "1  1  73  5097  1.5\n",
       "2  1  73  5104  1.5"
      ]
     },
     "execution_count": 5,
     "metadata": {},
     "output_type": "execute_result"
    }
   ],
   "source": [
    "data.head(3)"
   ]
  },
  {
   "cell_type": "code",
   "execution_count": 6,
   "metadata": {
    "collapsed": false
   },
   "outputs": [],
   "source": [
    "tr, tst=train_test_split(data.values,test_size=0.3,\n",
    "random_state=17)\n",
    "#разделили выборку на обучение и тест"
   ]
  },
  {
   "cell_type": "code",
   "execution_count": 7,
   "metadata": {
    "collapsed": true
   },
   "outputs": [],
   "source": [
    "ds=pd.DataFrame(tr, columns=data.columns)\n",
    "f=pd.DataFrame(tst, columns=data.columns)\n",
    "# записали в смежные датафреймы тренировку и тест\n",
    "x=f[['m', 'w', 'b']]\n",
    "y=f['s']\n",
    "# разделили тест на фичи и результат"
   ]
  },
  {
   "cell_type": "code",
   "execution_count": 8,
   "metadata": {
    "collapsed": false
   },
   "outputs": [
    {
     "data": {
      "text/html": [
       "<div>\n",
       "<table border=\"1\" class=\"dataframe\">\n",
       "  <thead>\n",
       "    <tr style=\"text-align: right;\">\n",
       "      <th></th>\n",
       "      <th>m</th>\n",
       "      <th>w</th>\n",
       "      <th>b</th>\n",
       "      <th>s</th>\n",
       "    </tr>\n",
       "  </thead>\n",
       "  <tbody>\n",
       "    <tr>\n",
       "      <th>count</th>\n",
       "      <td>45537.000000</td>\n",
       "      <td>45537.000000</td>\n",
       "      <td>45537.000000</td>\n",
       "      <td>45537.000000</td>\n",
       "    </tr>\n",
       "    <tr>\n",
       "      <th>mean</th>\n",
       "      <td>61.550388</td>\n",
       "      <td>4367.526868</td>\n",
       "      <td>4343.243714</td>\n",
       "      <td>1.546314</td>\n",
       "    </tr>\n",
       "    <tr>\n",
       "      <th>std</th>\n",
       "      <td>31.826493</td>\n",
       "      <td>2496.925468</td>\n",
       "      <td>2498.927717</td>\n",
       "      <td>0.371494</td>\n",
       "    </tr>\n",
       "    <tr>\n",
       "      <th>min</th>\n",
       "      <td>1.000000</td>\n",
       "      <td>1.000000</td>\n",
       "      <td>1.000000</td>\n",
       "      <td>1.000000</td>\n",
       "    </tr>\n",
       "    <tr>\n",
       "      <th>25%</th>\n",
       "      <td>35.000000</td>\n",
       "      <td>2155.000000</td>\n",
       "      <td>2124.000000</td>\n",
       "      <td>1.500000</td>\n",
       "    </tr>\n",
       "    <tr>\n",
       "      <th>50%</th>\n",
       "      <td>67.000000</td>\n",
       "      <td>4435.000000</td>\n",
       "      <td>4394.000000</td>\n",
       "      <td>1.500000</td>\n",
       "    </tr>\n",
       "    <tr>\n",
       "      <th>75%</th>\n",
       "      <td>93.000000</td>\n",
       "      <td>6554.000000</td>\n",
       "      <td>6514.000000</td>\n",
       "      <td>2.000000</td>\n",
       "    </tr>\n",
       "    <tr>\n",
       "      <th>max</th>\n",
       "      <td>100.000000</td>\n",
       "      <td>8631.000000</td>\n",
       "      <td>8631.000000</td>\n",
       "      <td>2.000000</td>\n",
       "    </tr>\n",
       "  </tbody>\n",
       "</table>\n",
       "</div>"
      ],
      "text/plain": [
       "                  m             w             b             s\n",
       "count  45537.000000  45537.000000  45537.000000  45537.000000\n",
       "mean      61.550388   4367.526868   4343.243714      1.546314\n",
       "std       31.826493   2496.925468   2498.927717      0.371494\n",
       "min        1.000000      1.000000      1.000000      1.000000\n",
       "25%       35.000000   2155.000000   2124.000000      1.500000\n",
       "50%       67.000000   4435.000000   4394.000000      1.500000\n",
       "75%       93.000000   6554.000000   6514.000000      2.000000\n",
       "max      100.000000   8631.000000   8631.000000      2.000000"
      ]
     },
     "execution_count": 8,
     "metadata": {},
     "output_type": "execute_result"
    }
   ],
   "source": [
    "ds.describe()"
   ]
  },
  {
   "cell_type": "code",
   "execution_count": 9,
   "metadata": {
    "collapsed": false
   },
   "outputs": [
    {
     "data": {
      "text/html": [
       "<div>\n",
       "<table border=\"1\" class=\"dataframe\">\n",
       "  <thead>\n",
       "    <tr style=\"text-align: right;\">\n",
       "      <th></th>\n",
       "      <th>m</th>\n",
       "      <th>w</th>\n",
       "      <th>b</th>\n",
       "      <th>s</th>\n",
       "    </tr>\n",
       "  </thead>\n",
       "  <tbody>\n",
       "    <tr>\n",
       "      <th>count</th>\n",
       "      <td>19516.000000</td>\n",
       "      <td>19516.000000</td>\n",
       "      <td>19516.000000</td>\n",
       "      <td>19516.000000</td>\n",
       "    </tr>\n",
       "    <tr>\n",
       "      <th>mean</th>\n",
       "      <td>61.561642</td>\n",
       "      <td>4348.190203</td>\n",
       "      <td>4342.763835</td>\n",
       "      <td>1.544092</td>\n",
       "    </tr>\n",
       "    <tr>\n",
       "      <th>std</th>\n",
       "      <td>31.893540</td>\n",
       "      <td>2491.979205</td>\n",
       "      <td>2484.869720</td>\n",
       "      <td>0.370360</td>\n",
       "    </tr>\n",
       "    <tr>\n",
       "      <th>min</th>\n",
       "      <td>1.000000</td>\n",
       "      <td>1.000000</td>\n",
       "      <td>1.000000</td>\n",
       "      <td>1.000000</td>\n",
       "    </tr>\n",
       "    <tr>\n",
       "      <th>25%</th>\n",
       "      <td>34.000000</td>\n",
       "      <td>2106.000000</td>\n",
       "      <td>2129.000000</td>\n",
       "      <td>1.500000</td>\n",
       "    </tr>\n",
       "    <tr>\n",
       "      <th>50%</th>\n",
       "      <td>67.000000</td>\n",
       "      <td>4422.000000</td>\n",
       "      <td>4399.000000</td>\n",
       "      <td>1.500000</td>\n",
       "    </tr>\n",
       "    <tr>\n",
       "      <th>75%</th>\n",
       "      <td>93.000000</td>\n",
       "      <td>6525.500000</td>\n",
       "      <td>6474.000000</td>\n",
       "      <td>2.000000</td>\n",
       "    </tr>\n",
       "    <tr>\n",
       "      <th>max</th>\n",
       "      <td>100.000000</td>\n",
       "      <td>8631.000000</td>\n",
       "      <td>8631.000000</td>\n",
       "      <td>2.000000</td>\n",
       "    </tr>\n",
       "  </tbody>\n",
       "</table>\n",
       "</div>"
      ],
      "text/plain": [
       "                  m             w             b             s\n",
       "count  19516.000000  19516.000000  19516.000000  19516.000000\n",
       "mean      61.561642   4348.190203   4342.763835      1.544092\n",
       "std       31.893540   2491.979205   2484.869720      0.370360\n",
       "min        1.000000      1.000000      1.000000      1.000000\n",
       "25%       34.000000   2106.000000   2129.000000      1.500000\n",
       "50%       67.000000   4422.000000   4399.000000      1.500000\n",
       "75%       93.000000   6525.500000   6474.000000      2.000000\n",
       "max      100.000000   8631.000000   8631.000000      2.000000"
      ]
     },
     "execution_count": 9,
     "metadata": {},
     "output_type": "execute_result"
    }
   ],
   "source": [
    "f.describe()"
   ]
  },
  {
   "cell_type": "code",
   "execution_count": 10,
   "metadata": {
    "collapsed": false
   },
   "outputs": [],
   "source": [
    "w=ds.groupby(['w'])['s'].agg([np.sum, np.mean, np.count_nonzero])\n",
    "# сгруппировали партии по игрокам, играющими белыми: сумма очков, среднее, число игр\n",
    "w=w.reset_index()\n",
    "w=w.rename(index=str, columns={\"w\": \"id\", \"sum\": \"sum_w\", \"mean\": \"mean_w\", \"count_nonzero\": \"games_w\"})\n",
    "w['id']=w['id'].astype('Int64')\n",
    "b=ds.groupby(['b'])['s'].agg([np.sum, np.mean, np.count_nonzero])\n",
    "# аналогично для чёрных\n",
    "b=b.reset_index()\n",
    "b=b.rename(index=str, columns={\"b\": \"id\", \"sum\": \"sum_b\", \"mean\": \"mean_b\", \"count_nonzero\": \"games_b\"})\n",
    "b['id']=b['id'].astype('Int64')\n",
    "r=pd.merge(w, b, how = 'left', left_on='id', right_on='id')\n",
    "r=r.fillna(0)\n",
    "# собрали оба цвета в одной таблице\n",
    "# из таблицы пропали те, кто не сыграл ни одной игры белыми\n",
    "r['sum_tot']=r['sum_w']+r['sum_b']\n",
    "r['games_tot']=r['games_w']+r['games_b']"
   ]
  },
  {
   "cell_type": "code",
   "execution_count": 11,
   "metadata": {
    "collapsed": false
   },
   "outputs": [
    {
     "data": {
      "text/html": [
       "<div>\n",
       "<table border=\"1\" class=\"dataframe\">\n",
       "  <thead>\n",
       "    <tr style=\"text-align: right;\">\n",
       "      <th></th>\n",
       "      <th>id</th>\n",
       "      <th>sum_w</th>\n",
       "      <th>mean_w</th>\n",
       "      <th>games_w</th>\n",
       "      <th>sum_b</th>\n",
       "      <th>mean_b</th>\n",
       "      <th>games_b</th>\n",
       "      <th>sum_tot</th>\n",
       "      <th>games_tot</th>\n",
       "    </tr>\n",
       "  </thead>\n",
       "  <tbody>\n",
       "    <tr>\n",
       "      <th>0</th>\n",
       "      <td>1</td>\n",
       "      <td>34.0</td>\n",
       "      <td>1.789474</td>\n",
       "      <td>19.0</td>\n",
       "      <td>24.0</td>\n",
       "      <td>1.714286</td>\n",
       "      <td>14.0</td>\n",
       "      <td>58.0</td>\n",
       "      <td>33.0</td>\n",
       "    </tr>\n",
       "    <tr>\n",
       "      <th>1</th>\n",
       "      <td>3</td>\n",
       "      <td>3.0</td>\n",
       "      <td>1.500000</td>\n",
       "      <td>2.0</td>\n",
       "      <td>8.0</td>\n",
       "      <td>1.600000</td>\n",
       "      <td>5.0</td>\n",
       "      <td>11.0</td>\n",
       "      <td>7.0</td>\n",
       "    </tr>\n",
       "    <tr>\n",
       "      <th>2</th>\n",
       "      <td>4</td>\n",
       "      <td>19.0</td>\n",
       "      <td>1.461538</td>\n",
       "      <td>13.0</td>\n",
       "      <td>27.0</td>\n",
       "      <td>1.500000</td>\n",
       "      <td>18.0</td>\n",
       "      <td>46.0</td>\n",
       "      <td>31.0</td>\n",
       "    </tr>\n",
       "    <tr>\n",
       "      <th>3</th>\n",
       "      <td>5</td>\n",
       "      <td>6.5</td>\n",
       "      <td>1.300000</td>\n",
       "      <td>5.0</td>\n",
       "      <td>8.0</td>\n",
       "      <td>1.600000</td>\n",
       "      <td>5.0</td>\n",
       "      <td>14.5</td>\n",
       "      <td>10.0</td>\n",
       "    </tr>\n",
       "  </tbody>\n",
       "</table>\n",
       "</div>"
      ],
      "text/plain": [
       "   id  sum_w    mean_w  games_w  sum_b    mean_b  games_b  sum_tot  games_tot\n",
       "0   1   34.0  1.789474     19.0   24.0  1.714286     14.0     58.0       33.0\n",
       "1   3    3.0  1.500000      2.0    8.0  1.600000      5.0     11.0        7.0\n",
       "2   4   19.0  1.461538     13.0   27.0  1.500000     18.0     46.0       31.0\n",
       "3   5    6.5  1.300000      5.0    8.0  1.600000      5.0     14.5       10.0"
      ]
     },
     "execution_count": 11,
     "metadata": {},
     "output_type": "execute_result"
    }
   ],
   "source": [
    "r.head(4)"
   ]
  },
  {
   "cell_type": "code",
   "execution_count": 12,
   "metadata": {
    "collapsed": false
   },
   "outputs": [
    {
     "data": {
      "text/html": [
       "<div>\n",
       "<table border=\"1\" class=\"dataframe\">\n",
       "  <thead>\n",
       "    <tr style=\"text-align: right;\">\n",
       "      <th></th>\n",
       "      <th>id</th>\n",
       "      <th>sum_w</th>\n",
       "      <th>mean_w</th>\n",
       "      <th>games_w</th>\n",
       "      <th>sum_b</th>\n",
       "      <th>mean_b</th>\n",
       "      <th>games_b</th>\n",
       "      <th>sum_tot</th>\n",
       "      <th>games_tot</th>\n",
       "    </tr>\n",
       "  </thead>\n",
       "  <tbody>\n",
       "    <tr>\n",
       "      <th>count</th>\n",
       "      <td>6125.000000</td>\n",
       "      <td>6125.000000</td>\n",
       "      <td>6125.000000</td>\n",
       "      <td>6125.000000</td>\n",
       "      <td>6125.000000</td>\n",
       "      <td>6125.000000</td>\n",
       "      <td>6125.000000</td>\n",
       "      <td>6125.000000</td>\n",
       "      <td>6125.000000</td>\n",
       "    </tr>\n",
       "    <tr>\n",
       "      <th>mean</th>\n",
       "      <td>4328.120816</td>\n",
       "      <td>11.496245</td>\n",
       "      <td>1.473201</td>\n",
       "      <td>7.434612</td>\n",
       "      <td>11.154612</td>\n",
       "      <td>1.379251</td>\n",
       "      <td>7.228571</td>\n",
       "      <td>22.650857</td>\n",
       "      <td>14.663184</td>\n",
       "    </tr>\n",
       "    <tr>\n",
       "      <th>std</th>\n",
       "      <td>2491.531328</td>\n",
       "      <td>17.655241</td>\n",
       "      <td>0.260798</td>\n",
       "      <td>10.840804</td>\n",
       "      <td>16.147265</td>\n",
       "      <td>0.593803</td>\n",
       "      <td>10.873133</td>\n",
       "      <td>33.338522</td>\n",
       "      <td>21.453214</td>\n",
       "    </tr>\n",
       "    <tr>\n",
       "      <th>min</th>\n",
       "      <td>1.000000</td>\n",
       "      <td>1.000000</td>\n",
       "      <td>1.000000</td>\n",
       "      <td>1.000000</td>\n",
       "      <td>0.000000</td>\n",
       "      <td>0.000000</td>\n",
       "      <td>0.000000</td>\n",
       "      <td>1.000000</td>\n",
       "      <td>1.000000</td>\n",
       "    </tr>\n",
       "    <tr>\n",
       "      <th>25%</th>\n",
       "      <td>2158.000000</td>\n",
       "      <td>2.000000</td>\n",
       "      <td>1.333333</td>\n",
       "      <td>2.000000</td>\n",
       "      <td>2.000000</td>\n",
       "      <td>1.388889</td>\n",
       "      <td>1.000000</td>\n",
       "      <td>4.500000</td>\n",
       "      <td>3.000000</td>\n",
       "    </tr>\n",
       "    <tr>\n",
       "      <th>50%</th>\n",
       "      <td>4333.000000</td>\n",
       "      <td>5.000000</td>\n",
       "      <td>1.500000</td>\n",
       "      <td>3.000000</td>\n",
       "      <td>5.500000</td>\n",
       "      <td>1.500000</td>\n",
       "      <td>3.000000</td>\n",
       "      <td>10.500000</td>\n",
       "      <td>7.000000</td>\n",
       "    </tr>\n",
       "    <tr>\n",
       "      <th>75%</th>\n",
       "      <td>6469.000000</td>\n",
       "      <td>12.500000</td>\n",
       "      <td>1.625000</td>\n",
       "      <td>8.000000</td>\n",
       "      <td>13.000000</td>\n",
       "      <td>1.714286</td>\n",
       "      <td>8.000000</td>\n",
       "      <td>25.500000</td>\n",
       "      <td>17.000000</td>\n",
       "    </tr>\n",
       "    <tr>\n",
       "      <th>max</th>\n",
       "      <td>8631.000000</td>\n",
       "      <td>174.000000</td>\n",
       "      <td>2.000000</td>\n",
       "      <td>105.000000</td>\n",
       "      <td>147.000000</td>\n",
       "      <td>2.000000</td>\n",
       "      <td>98.000000</td>\n",
       "      <td>320.500000</td>\n",
       "      <td>198.000000</td>\n",
       "    </tr>\n",
       "  </tbody>\n",
       "</table>\n",
       "</div>"
      ],
      "text/plain": [
       "                id        sum_w       mean_w      games_w        sum_b  \\\n",
       "count  6125.000000  6125.000000  6125.000000  6125.000000  6125.000000   \n",
       "mean   4328.120816    11.496245     1.473201     7.434612    11.154612   \n",
       "std    2491.531328    17.655241     0.260798    10.840804    16.147265   \n",
       "min       1.000000     1.000000     1.000000     1.000000     0.000000   \n",
       "25%    2158.000000     2.000000     1.333333     2.000000     2.000000   \n",
       "50%    4333.000000     5.000000     1.500000     3.000000     5.500000   \n",
       "75%    6469.000000    12.500000     1.625000     8.000000    13.000000   \n",
       "max    8631.000000   174.000000     2.000000   105.000000   147.000000   \n",
       "\n",
       "            mean_b      games_b      sum_tot    games_tot  \n",
       "count  6125.000000  6125.000000  6125.000000  6125.000000  \n",
       "mean      1.379251     7.228571    22.650857    14.663184  \n",
       "std       0.593803    10.873133    33.338522    21.453214  \n",
       "min       0.000000     0.000000     1.000000     1.000000  \n",
       "25%       1.388889     1.000000     4.500000     3.000000  \n",
       "50%       1.500000     3.000000    10.500000     7.000000  \n",
       "75%       1.714286     8.000000    25.500000    17.000000  \n",
       "max       2.000000    98.000000   320.500000   198.000000  "
      ]
     },
     "execution_count": 12,
     "metadata": {},
     "output_type": "execute_result"
    }
   ],
   "source": [
    "r.describe()"
   ]
  },
  {
   "cell_type": "code",
   "execution_count": 13,
   "metadata": {
    "collapsed": false
   },
   "outputs": [],
   "source": [
    "# Метрики качества\n",
    "def comp(f,y):\n",
    "    return np.sum((abs(y - f['s'] )**2)/(max(abs(y - f['s'] )**2)))\n",
    "# Квадратичное отколнение по всей дистанции, отнесённое к максимумальному несовпадению\n",
    "\n",
    "def corr(f,y):\n",
    "    return scipy.stats.pearsonr(y, f['s'])[0]\n",
    "# Корреляция Пирсона"
   ]
  },
  {
   "cell_type": "code",
   "execution_count": 14,
   "metadata": {
    "collapsed": true
   },
   "outputs": [],
   "source": [
    "# Подготовка данных закончена. Поехали строить модели"
   ]
  },
  {
   "cell_type": "code",
   "execution_count": 15,
   "metadata": {
    "collapsed": false
   },
   "outputs": [],
   "source": [
    "# Нулевая модель. Результат каждой партии - рандом.\n",
    "n=int(len(y))\n",
    "rnd=np.random.rand(n,1)\n",
    "rnd=(((np.round((rnd*100)%2,0)))/2)+1\n",
    "rnd\n",
    "r0=pd.DataFrame(rnd, columns=['s'])"
   ]
  },
  {
   "cell_type": "code",
   "execution_count": 16,
   "metadata": {
    "collapsed": false
   },
   "outputs": [
    {
     "data": {
      "text/plain": [
       "[<matplotlib.lines.Line2D at 0x7fbe10fa0588>,\n",
       " <matplotlib.lines.Line2D at 0x7fbdd0fd1ac8>]"
      ]
     },
     "execution_count": 16,
     "metadata": {},
     "output_type": "execute_result"
    },
    {
     "data": {
      "image/png": "[encoded data removed]",
      "text/plain": [
       "<matplotlib.figure.Figure at 0x7fbdd37d8e48>"
      ]
     },
     "metadata": {},
     "output_type": "display_data"
    }
   ],
   "source": [
    "pl=100\n",
    "plot(range(pl), r0['s'][0:pl], range(pl), y[0:pl])"
   ]
  },
  {
   "cell_type": "code",
   "execution_count": 17,
   "metadata": {
    "collapsed": false
   },
   "outputs": [
    {
     "data": {
      "text/plain": [
       "5157.0"
      ]
     },
     "execution_count": 17,
     "metadata": {},
     "output_type": "execute_result"
    }
   ],
   "source": [
    "comp(r0, y)"
   ]
  },
  {
   "cell_type": "code",
   "execution_count": 18,
   "metadata": {
    "collapsed": false
   },
   "outputs": [
    {
     "data": {
      "text/plain": [
       "0.0025525857634356467"
      ]
     },
     "execution_count": 18,
     "metadata": {},
     "output_type": "execute_result"
    }
   ],
   "source": [
    "corr(r0,y)"
   ]
  },
  {
   "cell_type": "code",
   "execution_count": 19,
   "metadata": {
    "collapsed": true
   },
   "outputs": [],
   "source": [
    "# рандом ожидаемо плох"
   ]
  },
  {
   "cell_type": "code",
   "execution_count": 20,
   "metadata": {
    "collapsed": true
   },
   "outputs": [],
   "source": [
    "# Первая простейшая модель. Рейтинг - среднее число набранных очков. Цвет не важен. \n",
    "# Тот, у кого выше рейтинг, всегда победит\n",
    "r1=r\n",
    "r1['rat']=r['sum_tot']/r['games_tot']\n",
    "r1=r1.fillna(0)"
   ]
  },
  {
   "cell_type": "code",
   "execution_count": 21,
   "metadata": {
    "collapsed": false
   },
   "outputs": [
    {
     "data": {
      "text/html": [
       "<div>\n",
       "<table border=\"1\" class=\"dataframe\">\n",
       "  <thead>\n",
       "    <tr style=\"text-align: right;\">\n",
       "      <th></th>\n",
       "      <th>id</th>\n",
       "      <th>sum_w</th>\n",
       "      <th>mean_w</th>\n",
       "      <th>games_w</th>\n",
       "      <th>sum_b</th>\n",
       "      <th>mean_b</th>\n",
       "      <th>games_b</th>\n",
       "      <th>sum_tot</th>\n",
       "      <th>games_tot</th>\n",
       "      <th>rat</th>\n",
       "    </tr>\n",
       "  </thead>\n",
       "  <tbody>\n",
       "    <tr>\n",
       "      <th>0</th>\n",
       "      <td>1</td>\n",
       "      <td>34.0</td>\n",
       "      <td>1.789474</td>\n",
       "      <td>19.0</td>\n",
       "      <td>24.0</td>\n",
       "      <td>1.714286</td>\n",
       "      <td>14.0</td>\n",
       "      <td>58.0</td>\n",
       "      <td>33.0</td>\n",
       "      <td>1.757576</td>\n",
       "    </tr>\n",
       "    <tr>\n",
       "      <th>1</th>\n",
       "      <td>3</td>\n",
       "      <td>3.0</td>\n",
       "      <td>1.500000</td>\n",
       "      <td>2.0</td>\n",
       "      <td>8.0</td>\n",
       "      <td>1.600000</td>\n",
       "      <td>5.0</td>\n",
       "      <td>11.0</td>\n",
       "      <td>7.0</td>\n",
       "      <td>1.571429</td>\n",
       "    </tr>\n",
       "    <tr>\n",
       "      <th>2</th>\n",
       "      <td>4</td>\n",
       "      <td>19.0</td>\n",
       "      <td>1.461538</td>\n",
       "      <td>13.0</td>\n",
       "      <td>27.0</td>\n",
       "      <td>1.500000</td>\n",
       "      <td>18.0</td>\n",
       "      <td>46.0</td>\n",
       "      <td>31.0</td>\n",
       "      <td>1.483871</td>\n",
       "    </tr>\n",
       "    <tr>\n",
       "      <th>3</th>\n",
       "      <td>5</td>\n",
       "      <td>6.5</td>\n",
       "      <td>1.300000</td>\n",
       "      <td>5.0</td>\n",
       "      <td>8.0</td>\n",
       "      <td>1.600000</td>\n",
       "      <td>5.0</td>\n",
       "      <td>14.5</td>\n",
       "      <td>10.0</td>\n",
       "      <td>1.450000</td>\n",
       "    </tr>\n",
       "    <tr>\n",
       "      <th>4</th>\n",
       "      <td>6</td>\n",
       "      <td>3.5</td>\n",
       "      <td>1.750000</td>\n",
       "      <td>2.0</td>\n",
       "      <td>12.5</td>\n",
       "      <td>1.562500</td>\n",
       "      <td>8.0</td>\n",
       "      <td>16.0</td>\n",
       "      <td>10.0</td>\n",
       "      <td>1.600000</td>\n",
       "    </tr>\n",
       "  </tbody>\n",
       "</table>\n",
       "</div>"
      ],
      "text/plain": [
       "   id  sum_w    mean_w  games_w  sum_b    mean_b  games_b  sum_tot  games_tot  \\\n",
       "0   1   34.0  1.789474     19.0   24.0  1.714286     14.0     58.0       33.0   \n",
       "1   3    3.0  1.500000      2.0    8.0  1.600000      5.0     11.0        7.0   \n",
       "2   4   19.0  1.461538     13.0   27.0  1.500000     18.0     46.0       31.0   \n",
       "3   5    6.5  1.300000      5.0    8.0  1.600000      5.0     14.5       10.0   \n",
       "4   6    3.5  1.750000      2.0   12.5  1.562500      8.0     16.0       10.0   \n",
       "\n",
       "        rat  \n",
       "0  1.757576  \n",
       "1  1.571429  \n",
       "2  1.483871  \n",
       "3  1.450000  \n",
       "4  1.600000  "
      ]
     },
     "execution_count": 21,
     "metadata": {},
     "output_type": "execute_result"
    }
   ],
   "source": [
    "r.head(5)"
   ]
  },
  {
   "cell_type": "code",
   "execution_count": 22,
   "metadata": {
    "collapsed": false
   },
   "outputs": [
    {
     "data": {
      "text/html": [
       "<div>\n",
       "<table border=\"1\" class=\"dataframe\">\n",
       "  <thead>\n",
       "    <tr style=\"text-align: right;\">\n",
       "      <th></th>\n",
       "      <th>m</th>\n",
       "      <th>w</th>\n",
       "      <th>b</th>\n",
       "    </tr>\n",
       "  </thead>\n",
       "  <tbody>\n",
       "    <tr>\n",
       "      <th>0</th>\n",
       "      <td>34.0</td>\n",
       "      <td>1200.0</td>\n",
       "      <td>4432.0</td>\n",
       "    </tr>\n",
       "    <tr>\n",
       "      <th>1</th>\n",
       "      <td>9.0</td>\n",
       "      <td>3824.0</td>\n",
       "      <td>8299.0</td>\n",
       "    </tr>\n",
       "    <tr>\n",
       "      <th>2</th>\n",
       "      <td>69.0</td>\n",
       "      <td>172.0</td>\n",
       "      <td>6578.0</td>\n",
       "    </tr>\n",
       "  </tbody>\n",
       "</table>\n",
       "</div>"
      ],
      "text/plain": [
       "      m       w       b\n",
       "0  34.0  1200.0  4432.0\n",
       "1   9.0  3824.0  8299.0\n",
       "2  69.0   172.0  6578.0"
      ]
     },
     "execution_count": 22,
     "metadata": {},
     "output_type": "execute_result"
    }
   ],
   "source": [
    "x.head(3)"
   ]
  },
  {
   "cell_type": "code",
   "execution_count": null,
   "metadata": {
    "collapsed": true
   },
   "outputs": [],
   "source": []
  },
  {
   "cell_type": "code",
   "execution_count": null,
   "metadata": {
    "collapsed": true
   },
   "outputs": [],
   "source": []
  },
  {
   "cell_type": "code",
   "execution_count": null,
   "metadata": {
    "collapsed": true
   },
   "outputs": [],
   "source": []
  },
  {
   "cell_type": "code",
   "execution_count": null,
   "metadata": {
    "collapsed": true
   },
   "outputs": [],
   "source": []
  }
 ],
 "metadata": {
  "kernelspec": {
   "display_name": "Python 3",
   "language": "python",
   "name": "python3"
  },
  "language_info": {
   "codemirror_mode": {
    "name": "ipython",
    "version": 3
   },
   "file_extension": ".py",
   "mimetype": "text/x-python",
   "name": "python",
   "nbconvert_exporter": "python",
   "pygments_lexer": "ipython3",
   "version": "3.6.0"
  }
 },
 "nbformat": 4,
 "nbformat_minor": 2
}
