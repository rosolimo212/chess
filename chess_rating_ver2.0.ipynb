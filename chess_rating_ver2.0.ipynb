{
 "cells": [
  {
   "cell_type": "markdown",
   "metadata": {},
   "source": [
    "# Предсказание результатов шахматных партий"
   ]
  },
  {
   "cell_type": "markdown",
   "metadata": {},
   "source": [
    "В данном файле представлена попытка предсказать результаты шахматных партий с помощью несколькиъ моделей. \n",
    "В качестве исходных данных взят датасет из Kaggle. Вопрос о том, можно ли использовать данные из обновляемых баз открыт.\n",
    "Также открыт вопрос о том, можно ли улучшить прогноз с помощью использования дополниетльных данных (места проведения партии, турнирного положения и т.п.)"
   ]
  },
  {
   "cell_type": "markdown",
   "metadata": {},
   "source": [
    "## Этап 1. Подготовка исходных данных."
   ]
  },
  {
   "cell_type": "markdown",
   "metadata": {},
   "source": [
    "На данном этапе мы просто выгружаем данные из файла, стандартно их разбиваем и проверяем, что всё хорошо. Именно на этом этапе нужны будут изменения, если, например, мы захотим вытаскивать онлайн результаты по API"
   ]
  },
  {
   "cell_type": "code",
   "execution_count": 238,
   "metadata": {
    "collapsed": false
   },
   "outputs": [
    {
     "name": "stdout",
     "output_type": "stream",
     "text": [
      "Populating the interactive namespace from numpy and matplotlib\n"
     ]
    }
   ],
   "source": [
    "# Импорт необходимых библиотек\n",
    "import numpy as np\n",
    "import pandas as pd\n",
    "\n",
    "from sklearn.model_selection import train_test_split, StratifiedKFold\n",
    "from sklearn.neighbors import KNeighborsClassifier\n",
    "from sklearn.tree import DecisionTreeClassifier\n",
    "from sklearn.tree import export_graphviz\n",
    "\n",
    "\n",
    "import scipy\n",
    "\n",
    "# будем отображать графики прямо в jupyter'e\n",
    "%pylab inline\n",
    "\n",
    "from pylab import rcParams\n",
    "rcParams['figure.figsize'] = 8, 5\n",
    "import seaborn as sns"
   ]
  },
  {
   "cell_type": "code",
   "execution_count": 239,
   "metadata": {
    "collapsed": false
   },
   "outputs": [
    {
     "data": {
      "text/html": [
       "<div>\n",
       "<style>\n",
       "    .dataframe thead tr:only-child th {\n",
       "        text-align: right;\n",
       "    }\n",
       "\n",
       "    .dataframe thead th {\n",
       "        text-align: left;\n",
       "    }\n",
       "\n",
       "    .dataframe tbody tr th {\n",
       "        vertical-align: top;\n",
       "    }\n",
       "</style>\n",
       "<table border=\"1\" class=\"dataframe\">\n",
       "  <thead>\n",
       "    <tr style=\"text-align: right;\">\n",
       "      <th></th>\n",
       "      <th>m</th>\n",
       "      <th>w</th>\n",
       "      <th>b</th>\n",
       "      <th>s</th>\n",
       "    </tr>\n",
       "  </thead>\n",
       "  <tbody>\n",
       "    <tr>\n",
       "      <th>0</th>\n",
       "      <td>1</td>\n",
       "      <td>73</td>\n",
       "      <td>1246</td>\n",
       "      <td>1.5</td>\n",
       "    </tr>\n",
       "    <tr>\n",
       "      <th>1</th>\n",
       "      <td>1</td>\n",
       "      <td>73</td>\n",
       "      <td>5097</td>\n",
       "      <td>1.5</td>\n",
       "    </tr>\n",
       "    <tr>\n",
       "      <th>2</th>\n",
       "      <td>1</td>\n",
       "      <td>73</td>\n",
       "      <td>5104</td>\n",
       "      <td>1.5</td>\n",
       "    </tr>\n",
       "  </tbody>\n",
       "</table>\n",
       "</div>"
      ],
      "text/plain": [
       "   m   w     b    s\n",
       "0  1  73  1246  1.5\n",
       "1  1  73  5097  1.5\n",
       "2  1  73  5104  1.5"
      ]
     },
     "execution_count": 239,
     "metadata": {},
     "output_type": "execute_result"
    }
   ],
   "source": [
    "# Импорт данных и последующая обработка\n",
    "data = pd.read_csv(\"training_data.csv\")\n",
    "data['Score']=data['Score']+1\n",
    "# ВНИМАНИЕ! \n",
    "# Здесь и далее будет использовать необычная схема начисления очков: поражение 1.0, ничья 1.5, победа 2.0\n",
    "# Это сделано для корректной работы части функций (0 означает отсутствие результата).\n",
    "# Это значит, что прямые формулы рейтингов и ожидания значений просто так использовать нельзя, нужно адаптировать к текущей схеме\n",
    "data=data.rename(index=str, columns={\"Month #\": \"m\", \"White Player #\": \"w\", \"Black Player #\": \"b\", \"Score\": \"s\"})\n",
    "# Длинные заголовки полей использовать трудно, переименовываем их\n",
    "data.head(3)"
   ]
  },
  {
   "cell_type": "code",
   "execution_count": 240,
   "metadata": {
    "collapsed": true
   },
   "outputs": [],
   "source": [
    "# Разеделение исходных данных на тренировочную и тестовую выборку\n",
    "tr, tst=train_test_split(data.values,test_size=0.3, random_state=17)\n",
    "# Разделение 70 на 30\n",
    "ds=pd.DataFrame(tr, columns=data.columns)\n",
    "# Так будет называться основной массив данных, с которыми будем работать\n",
    "f=pd.DataFrame(tst, columns=data.columns)\n",
    "# Так будет называть массив данных, которые мы будем пытаться предсказывать\n",
    "x=f[['m', 'w', 'b']]\n",
    "y=f['s']\n",
    "# Кроме того, тестовую выборку разделили на массив свойств и массив результатов"
   ]
  },
  {
   "cell_type": "code",
   "execution_count": 241,
   "metadata": {
    "collapsed": false
   },
   "outputs": [
    {
     "data": {
      "text/html": [
       "<div>\n",
       "<style>\n",
       "    .dataframe thead tr:only-child th {\n",
       "        text-align: right;\n",
       "    }\n",
       "\n",
       "    .dataframe thead th {\n",
       "        text-align: left;\n",
       "    }\n",
       "\n",
       "    .dataframe tbody tr th {\n",
       "        vertical-align: top;\n",
       "    }\n",
       "</style>\n",
       "<table border=\"1\" class=\"dataframe\">\n",
       "  <thead>\n",
       "    <tr style=\"text-align: right;\">\n",
       "      <th></th>\n",
       "      <th>m</th>\n",
       "      <th>w</th>\n",
       "      <th>b</th>\n",
       "      <th>s</th>\n",
       "    </tr>\n",
       "  </thead>\n",
       "  <tbody>\n",
       "    <tr>\n",
       "      <th>count</th>\n",
       "      <td>45537.000000</td>\n",
       "      <td>45537.000000</td>\n",
       "      <td>45537.000000</td>\n",
       "      <td>45537.000000</td>\n",
       "    </tr>\n",
       "    <tr>\n",
       "      <th>mean</th>\n",
       "      <td>61.550388</td>\n",
       "      <td>4367.526868</td>\n",
       "      <td>4343.243714</td>\n",
       "      <td>1.546314</td>\n",
       "    </tr>\n",
       "    <tr>\n",
       "      <th>std</th>\n",
       "      <td>31.826493</td>\n",
       "      <td>2496.925468</td>\n",
       "      <td>2498.927717</td>\n",
       "      <td>0.371494</td>\n",
       "    </tr>\n",
       "    <tr>\n",
       "      <th>min</th>\n",
       "      <td>1.000000</td>\n",
       "      <td>1.000000</td>\n",
       "      <td>1.000000</td>\n",
       "      <td>1.000000</td>\n",
       "    </tr>\n",
       "    <tr>\n",
       "      <th>25%</th>\n",
       "      <td>35.000000</td>\n",
       "      <td>2155.000000</td>\n",
       "      <td>2124.000000</td>\n",
       "      <td>1.500000</td>\n",
       "    </tr>\n",
       "    <tr>\n",
       "      <th>50%</th>\n",
       "      <td>67.000000</td>\n",
       "      <td>4435.000000</td>\n",
       "      <td>4394.000000</td>\n",
       "      <td>1.500000</td>\n",
       "    </tr>\n",
       "    <tr>\n",
       "      <th>75%</th>\n",
       "      <td>93.000000</td>\n",
       "      <td>6554.000000</td>\n",
       "      <td>6514.000000</td>\n",
       "      <td>2.000000</td>\n",
       "    </tr>\n",
       "    <tr>\n",
       "      <th>max</th>\n",
       "      <td>100.000000</td>\n",
       "      <td>8631.000000</td>\n",
       "      <td>8631.000000</td>\n",
       "      <td>2.000000</td>\n",
       "    </tr>\n",
       "  </tbody>\n",
       "</table>\n",
       "</div>"
      ],
      "text/plain": [
       "                  m             w             b             s\n",
       "count  45537.000000  45537.000000  45537.000000  45537.000000\n",
       "mean      61.550388   4367.526868   4343.243714      1.546314\n",
       "std       31.826493   2496.925468   2498.927717      0.371494\n",
       "min        1.000000      1.000000      1.000000      1.000000\n",
       "25%       35.000000   2155.000000   2124.000000      1.500000\n",
       "50%       67.000000   4435.000000   4394.000000      1.500000\n",
       "75%       93.000000   6554.000000   6514.000000      2.000000\n",
       "max      100.000000   8631.000000   8631.000000      2.000000"
      ]
     },
     "execution_count": 241,
     "metadata": {},
     "output_type": "execute_result"
    }
   ],
   "source": [
    "ds.describe()"
   ]
  },
  {
   "cell_type": "code",
   "execution_count": 5,
   "metadata": {
    "collapsed": false
   },
   "outputs": [
    {
     "data": {
      "text/html": [
       "<div>\n",
       "<style>\n",
       "    .dataframe thead tr:only-child th {\n",
       "        text-align: right;\n",
       "    }\n",
       "\n",
       "    .dataframe thead th {\n",
       "        text-align: left;\n",
       "    }\n",
       "\n",
       "    .dataframe tbody tr th {\n",
       "        vertical-align: top;\n",
       "    }\n",
       "</style>\n",
       "<table border=\"1\" class=\"dataframe\">\n",
       "  <thead>\n",
       "    <tr style=\"text-align: right;\">\n",
       "      <th></th>\n",
       "      <th>m</th>\n",
       "      <th>w</th>\n",
       "      <th>b</th>\n",
       "      <th>s</th>\n",
       "    </tr>\n",
       "  </thead>\n",
       "  <tbody>\n",
       "    <tr>\n",
       "      <th>count</th>\n",
       "      <td>19516.000000</td>\n",
       "      <td>19516.000000</td>\n",
       "      <td>19516.000000</td>\n",
       "      <td>19516.000000</td>\n",
       "    </tr>\n",
       "    <tr>\n",
       "      <th>mean</th>\n",
       "      <td>61.561642</td>\n",
       "      <td>4348.190203</td>\n",
       "      <td>4342.763835</td>\n",
       "      <td>1.544092</td>\n",
       "    </tr>\n",
       "    <tr>\n",
       "      <th>std</th>\n",
       "      <td>31.893540</td>\n",
       "      <td>2491.979205</td>\n",
       "      <td>2484.869720</td>\n",
       "      <td>0.370360</td>\n",
       "    </tr>\n",
       "    <tr>\n",
       "      <th>min</th>\n",
       "      <td>1.000000</td>\n",
       "      <td>1.000000</td>\n",
       "      <td>1.000000</td>\n",
       "      <td>1.000000</td>\n",
       "    </tr>\n",
       "    <tr>\n",
       "      <th>25%</th>\n",
       "      <td>34.000000</td>\n",
       "      <td>2106.000000</td>\n",
       "      <td>2129.000000</td>\n",
       "      <td>1.500000</td>\n",
       "    </tr>\n",
       "    <tr>\n",
       "      <th>50%</th>\n",
       "      <td>67.000000</td>\n",
       "      <td>4422.000000</td>\n",
       "      <td>4399.000000</td>\n",
       "      <td>1.500000</td>\n",
       "    </tr>\n",
       "    <tr>\n",
       "      <th>75%</th>\n",
       "      <td>93.000000</td>\n",
       "      <td>6525.500000</td>\n",
       "      <td>6474.000000</td>\n",
       "      <td>2.000000</td>\n",
       "    </tr>\n",
       "    <tr>\n",
       "      <th>max</th>\n",
       "      <td>100.000000</td>\n",
       "      <td>8631.000000</td>\n",
       "      <td>8631.000000</td>\n",
       "      <td>2.000000</td>\n",
       "    </tr>\n",
       "  </tbody>\n",
       "</table>\n",
       "</div>"
      ],
      "text/plain": [
       "                  m             w             b             s\n",
       "count  19516.000000  19516.000000  19516.000000  19516.000000\n",
       "mean      61.561642   4348.190203   4342.763835      1.544092\n",
       "std       31.893540   2491.979205   2484.869720      0.370360\n",
       "min        1.000000      1.000000      1.000000      1.000000\n",
       "25%       34.000000   2106.000000   2129.000000      1.500000\n",
       "50%       67.000000   4422.000000   4399.000000      1.500000\n",
       "75%       93.000000   6525.500000   6474.000000      2.000000\n",
       "max      100.000000   8631.000000   8631.000000      2.000000"
      ]
     },
     "execution_count": 5,
     "metadata": {},
     "output_type": "execute_result"
    }
   ],
   "source": [
    "f.describe()"
   ]
  },
  {
   "cell_type": "code",
   "execution_count": 6,
   "metadata": {
    "collapsed": true
   },
   "outputs": [],
   "source": [
    "# Данные разбиты, распределения правдоподобны, всё хорошо. Данные готовы"
   ]
  },
  {
   "cell_type": "markdown",
   "metadata": {},
   "source": [
    "## Этап 2. Построение вспомогательных функций и метрик качества."
   ]
  },
  {
   "cell_type": "markdown",
   "metadata": {},
   "source": [
    "Метрики качества - функции, с помощью которых мы будем сравнивать модели с дейсвтительностью и между собой. Вспомогательные функции просто помогут абстрагироваться от лишнего"
   ]
  },
  {
   "cell_type": "code",
   "execution_count": 7,
   "metadata": {
    "collapsed": true
   },
   "outputs": [],
   "source": [
    "# Определяем метрики качества\n",
    "def comp(f,y):\n",
    "    y=list(y)\n",
    "    return np.sum((abs(y - f['s'] )**2)/(max(abs(y - f['s'] )**2)))\n",
    "# Первая и быстрая метрика - это квадратичное отколнение по всей дистанции, отнесённое к максимумальному несовпадению\n",
    "# Логика предельно понятна: чем больше расхождение в каждой точке, тем эта величина больше. \n",
    "# Сумма отклонений на дистанции - единое число. У идеальной модели оно равно нулю, далее чем больше, тем хуже модель. \n",
    "# Максимальный разброс в знаменателе - попытка дать какой-то модельный смысл самому числу. \n",
    "\n",
    "def corr(f,y):\n",
    "    return scipy.stats.pearsonr(y, f['s'])[0]\n",
    "# Вторая метрика качества - коэффициент корреляции Пирсона. Старая добрая корреляция. \n",
    "# С её помощью попробуем отсекать тривиальные решение и следить за переобучением. \n",
    "\n",
    "def count(f,y):\n",
    "    n=len(y) # размер массива\n",
    "    f['y']=list(y)\n",
    "    f['m']=np.where((f['y']-f['s']==0),1,0)\n",
    "    p=sum(f['m'])\n",
    "    return float(p)/n\n",
    "#  Третья метрика - просто доля точных попаданий. Простая и понятная.\n",
    "\n",
    "def acm(f,y):\n",
    "    print(\"Sqr_div: \", comp(f,y))\n",
    "    print(\"Correl: \", corr(f,y))\n",
    "    print(\"Share: \", count(f,y))\n",
    "# Просто печатаем всё вместе"
   ]
  },
  {
   "cell_type": "code",
   "execution_count": 8,
   "metadata": {
    "collapsed": true
   },
   "outputs": [],
   "source": [
    "# Функция получения статистики\n",
    "# На вход подаём партии с результатами, на выходе - статистика по игрокам, сыгранным партиям, набранным очкам и т.п.\n",
    "# Если на входе таблица с играми без результатов, то выводим просто список игроков, статистику игр и столбец нулевого рейтинга\n",
    "# Эту таблицу вполне можно дополнять\n",
    "def plst(ds):\n",
    "    if 's' in ds.columns: # проверяем, есть ли в исходных данных столбец с результатами\n",
    "        w=ds.groupby(['w'])['s'].agg([np.sum, np.mean, np.count_nonzero])\n",
    "        # сгруппировали партии по игрокам, играющими белыми: сумма очков, среднее, число игр\n",
    "        w=w.reset_index()\n",
    "        w=w.rename(index=str, columns={\"w\": \"id\", \"sum\": \"sum_w\", \"mean\": \"mean_w\", \"count_nonzero\": \"games_w\"})\n",
    "        # так как потом будут ещё и чёрные, требуется переименовать столбцы\n",
    "        w['id']=w['id'].astype('Int64')\n",
    "        # ID - это целое число, много где дальше это будет важно\n",
    "\n",
    "        b=ds.groupby(['b'])['s'].agg([np.sum, np.mean, np.count_nonzero])\n",
    "        b=b.reset_index()\n",
    "        b=b.rename(index=str, columns={\"b\": \"id\", \"sum\": \"sum_b\", \"mean\": \"mean_b\", \"count_nonzero\": \"games_b\"})\n",
    "        b['id']=b['id'].astype('Int64')\n",
    "        # аналогично для чёрных\n",
    "\n",
    "        r=pd.merge(w, b, how = 'left', left_on='id', right_on='id')\n",
    "        # Собрали данные для чёрных им белых\n",
    "        # N.B. Использована специфичная фунция, может не работать на третьем Питоне\n",
    "        # N.B. При таком подходе из таблицы пропадают те, кто не сыграл ни одной игры белыми. \n",
    "        # На точность рейтинга это не повлияет, но проверку на наличие в таблице делать надо\n",
    "        r=r.fillna(0)\n",
    "        # Обязщательная процедура после джойнов\n",
    "\n",
    "        r['sum_tot']=r['sum_w']+r['sum_b']\n",
    "        r['games_tot']=r['games_w']+r['games_b']\n",
    "        # Данные для игр за оба цвета\n",
    "        r['rat']=0\n",
    "        # Существование этого поля нам сделаем лёгкой жизнь в будущем\n",
    "        return r\n",
    "    else: \n",
    "        # ветка на случай, если результатов нет\n",
    "        w=ds.groupby(['w'])['w'].agg([np.count_nonzero])\n",
    "        # сгруппировали партии по игрокам, играющими белыми: сумма очков, среднее, число игр\n",
    "        w=w.reset_index()\n",
    "        w=w.rename(index=str, columns={\"w\": \"id\", \"count_nonzero\": \"games_w\"})\n",
    "        # так как потом будут ещё и чёрные, требуется переименовать столбцы\n",
    "        w['id']=w['id'].astype('Int64')\n",
    "        # ID - это целое число, много где дальше это будет важно\n",
    "\n",
    "        b=ds.groupby(['b'])['b'].agg([np.count_nonzero])\n",
    "        b=b.reset_index()\n",
    "        b=b.rename(index=str, columns={\"b\": \"id\", \"count_nonzero\": \"games_b\"})\n",
    "        b['id']=b['id'].astype('Int64')\n",
    "        # аналогично для чёрных\n",
    "        r=pd.merge(w, b, how = 'left', left_on='id', right_on='id')\n",
    "        r=r.fillna(0)\n",
    "        # Обязщательная процедура после джойнов\n",
    "        r['games_tot']=r['games_w']+r['games_b']\n",
    "        r['rat']=0\n",
    "        return r"
   ]
  },
  {
   "cell_type": "code",
   "execution_count": 9,
   "metadata": {
    "collapsed": true
   },
   "outputs": [],
   "source": [
    "# Функция, которая подтягивает рейтинг из модели к реальным партия по id игроков\n",
    "def defr(x, f):\n",
    "    r=x.merge(f, how = 'left', left_on='w', right_on='id')\n",
    "    # подтянули к белым их рейтинг\n",
    "    r=r[['m', 'w', 'b', 'rat']]\n",
    "    #  убрали лишние столбцы\n",
    "    r=r.rename(index=str, columns={\"rat\": \"w_rat\"})\n",
    "    # не забыли переименовать: мы взяла пока рейтинг только белых\n",
    "    r=r.merge(f, how = 'left', left_on='b', right_on='id')\n",
    "    r=r[['m', 'w', 'b' ,'w_rat', 'rat']]\n",
    "    r=r.rename(index=str, columns={\"rat\": \"b_rat\"})\n",
    "    # аналогичная процедура для чёрных\n",
    "    r=r.fillna(0)\n",
    "    return r"
   ]
  },
  {
   "cell_type": "code",
   "execution_count": 10,
   "metadata": {
    "collapsed": true
   },
   "outputs": [],
   "source": [
    "# Функции оценки распределения ошибок\n",
    "# Так как результата партии всего три, можно составить матрицу 3 на 3, \n",
    "# где по одной оси будет предсказанный результат, а по другой - отклонение истины от него\n",
    "# Такая матрица поможет в поиске систематичесих ошибок и подборе параметров\n",
    "\n",
    "# Функция выводит матрицу. На вход сначала подаётся датасет с предсказывающей моделью, потом - столбец реальных значений\n",
    "# На выходе - матрица три на три\n",
    "def mtrx(f,y):\n",
    "    f['dif']=f['s']-list(y)\n",
    "    # различие факта и модели\n",
    "    f['i']=f.index.values\n",
    "    g=f.groupby(['s','dif'], as_index=0).agg({'i': lambda x: x.nunique()})\n",
    "    # группируем по числу исходов и ошибок\n",
    "    p=g.pivot(index='dif', columns='s', values='i')\n",
    "    # выводим в удобном матричном виде\n",
    "    p=p.fillna(0)\n",
    "    return p\n",
    "\n",
    "# Функция, аналогичная прошлой, только выдаёт данные в нормализованнм виде\n",
    "def mtrxn(f,y):\n",
    "    m=mtrx(f,y)\n",
    "    nn=sum(sum(m))\n",
    "    #нормализуем на максимум\n",
    "    return m/nn\n",
    "\n"
   ]
  },
  {
   "cell_type": "code",
   "execution_count": 11,
   "metadata": {
    "collapsed": true
   },
   "outputs": [],
   "source": [
    "# Функции построения графиков\n",
    "# Простейший график. Выводит модель и факт. Третий параметр функции - число взятых точек для сравнения \n",
    "def pl(f, y, n):\n",
    "    plot(range(n), f['s'][0:n], range(n), y[0:n])\n",
    "    # ну и просто график глазами посмотреть"
   ]
  },
  {
   "cell_type": "code",
   "execution_count": 12,
   "metadata": {
    "collapsed": true
   },
   "outputs": [],
   "source": [
    "# Функции построены, проверены, всё хорошо. Можно начинать строить модели!"
   ]
  },
  {
   "cell_type": "markdown",
   "metadata": {},
   "source": [
    "## Этап 3. Построение гипотез"
   ]
  },
  {
   "cell_type": "markdown",
   "metadata": {},
   "source": [
    "В данном разделе мы будем строить различные модели, которые на основании данных из набора ds постараются на нанных из набора x спрогнозировать то, что будет в столбце y. Качество работы моделей определяют меьтрики качества и здравый смысл. "
   ]
  },
  {
   "cell_type": "markdown",
   "metadata": {},
   "source": [
    "### Модель №0. Полный рандом"
   ]
  },
  {
   "cell_type": "markdown",
   "metadata": {},
   "source": [
    "Нулевая модель просто генерирует один из трёх возможных результатов в каждой партии. Ожидается, что модель будет плохой, а любую работающую модель имеет смысл сравнивать только в том случае, если она будет лучше нулевой.\n",
    "Простейшая модель не имеет параметров настройки, не смотрит ни на какие данные, просто выдаёт результат."
   ]
  },
  {
   "cell_type": "code",
   "execution_count": 13,
   "metadata": {
    "collapsed": true
   },
   "outputs": [],
   "source": [
    "# Функция нулевой модели\n",
    "def r0(x): # на входе только датафрейм x\n",
    "    n=int(len(x['m']))\n",
    "    # определяем длину выборки\n",
    "    rnd=np.random.rand(n,1)\n",
    "    # генерируем одномерный массив случайных чисел размером n \n",
    "    rnd=(((np.round((rnd*100)%2,0)))/2)+1\n",
    "    # Ставим в соответствие каждому случайному число одно из трёх чисел: 1.0, 1.5, 2.0\n",
    "    r0=pd.DataFrame(rnd, columns=['s'])\n",
    "    # Собираем датафрейм с результатом\n",
    "    return r0"
   ]
  },
  {
   "cell_type": "code",
   "execution_count": 14,
   "metadata": {
    "collapsed": false
   },
   "outputs": [
    {
     "name": "stdout",
     "output_type": "stream",
     "text": [
      "('Sqr_div: ', 5203.25)\n",
      "('Correl: ', -0.0062081626345738671)\n",
      "('Share: ', 0.3584238573478172)\n"
     ]
    }
   ],
   "source": [
    "acm(r0(x),y)"
   ]
  },
  {
   "cell_type": "code",
   "execution_count": 15,
   "metadata": {
    "collapsed": false
   },
   "outputs": [
    {
     "name": "stderr",
     "output_type": "stream",
     "text": [
      "/opt/python/lib/python2.7/site-packages/matplotlib/font_manager.py:1297: UserWarning: findfont: Font family [u'sans-serif'] not found. Falling back to DejaVu Sans\n",
      "  (prop.get_family(), self.defaultFamily[fontext]))\n"
     ]
    },
    {
     "data": {
      "image/png": "[encoded data removed]",
      "text/plain": [
       "<matplotlib.figure.Figure at 0x7fdec4045a50>"
      ]
     },
     "metadata": {},
     "output_type": "display_data"
    }
   ],
   "source": [
    "pl(r0(x), y, 50)"
   ]
  },
  {
   "cell_type": "code",
   "execution_count": 16,
   "metadata": {
    "collapsed": true
   },
   "outputs": [],
   "source": [
    "# Отклоенение нам пока ничего не сказало, но отрицательная корреляция и общее число непопадений \n",
    "# говорят нам о том, что модель, как и ожадли, плоха"
   ]
  },
  {
   "cell_type": "markdown",
   "metadata": {},
   "source": [
    "### Модель №1. Средний по больнице"
   ]
  },
  {
   "cell_type": "markdown",
   "metadata": {},
   "source": [
    "В первой модели мы выскажем гипотезу о том, что результат следующей партии может предсказать среднее число очков за партию данного игрока.\n",
    "Тот, кто раньше часто выигрывал будет и дальше выигрывать. А тот, кто проигрывал - будет проигрывать."
   ]
  },
  {
   "cell_type": "markdown",
   "metadata": {},
   "source": [
    "Конкретизация модели. Цвет не имеет значения, порядок партий не имеет значения. Тот, у кого выше рейтинг, всегда побеждает."
   ]
  },
  {
   "cell_type": "code",
   "execution_count": 17,
   "metadata": {
    "collapsed": true
   },
   "outputs": [],
   "source": [
    "# Определяем функцию новой модели\n",
    "def r1(ds, x):\n",
    "    rb=plst(ds)\n",
    "    # вытащили и сохранили статистику\n",
    "    rb['rat']=rb['sum_tot']/rb['games_tot']\n",
    "    # единый рейтинг у человека за всё время по выбранному параметру\n",
    "    rb=rb.fillna(0)\n",
    "    r1=defr(x, rb)\n",
    "    # Притягиваем полученный нами рейтинг к каждой партии из тренровочной выборки\n",
    "    r1['s']=np.where(r1['w_rat']>r1['b_rat'], 2.0, np.where(r1['w_rat']<r1['b_rat'],1.0, 1.5))\n",
    "    # Предсказываем результат. У кого больше, того и тапки. Ничья только если все рейтинги равны\n",
    "    return r1"
   ]
  },
  {
   "cell_type": "code",
   "execution_count": 18,
   "metadata": {
    "collapsed": false
   },
   "outputs": [
    {
     "name": "stdout",
     "output_type": "stream",
     "text": [
      "('Sqr_div: ', 7176.0)\n",
      "('Correl: ', 0.045515532319713198)\n",
      "('Share: ', 0.2979606476737036)\n"
     ]
    }
   ],
   "source": [
    "# Выводим метрики качества\n",
    "acm(r1(ds, x),y)"
   ]
  },
  {
   "cell_type": "code",
   "execution_count": 19,
   "metadata": {
    "collapsed": true
   },
   "outputs": [],
   "source": [
    "# Положительная корреляция - хорошо, но отклонение хуже, чем у рандома. Как так?"
   ]
  },
  {
   "cell_type": "code",
   "execution_count": 20,
   "metadata": {
    "collapsed": false
   },
   "outputs": [
    {
     "data": {
      "image/png": "[encoded data removed]",
      "text/plain": [
       "<matplotlib.figure.Figure at 0x7fdec3f68510>"
      ]
     },
     "metadata": {},
     "output_type": "display_data"
    }
   ],
   "source": [
    "pl(r1(ds, x), y, 50)"
   ]
  },
  {
   "cell_type": "code",
   "execution_count": 21,
   "metadata": {
    "collapsed": false
   },
   "outputs": [
    {
     "data": {
      "text/html": [
       "<div>\n",
       "<style>\n",
       "    .dataframe thead tr:only-child th {\n",
       "        text-align: right;\n",
       "    }\n",
       "\n",
       "    .dataframe thead th {\n",
       "        text-align: left;\n",
       "    }\n",
       "\n",
       "    .dataframe tbody tr th {\n",
       "        vertical-align: top;\n",
       "    }\n",
       "</style>\n",
       "<table border=\"1\" class=\"dataframe\">\n",
       "  <thead>\n",
       "    <tr style=\"text-align: right;\">\n",
       "      <th>s</th>\n",
       "      <th>1.0</th>\n",
       "      <th>1.5</th>\n",
       "      <th>2.0</th>\n",
       "    </tr>\n",
       "    <tr>\n",
       "      <th>dif</th>\n",
       "      <th></th>\n",
       "      <th></th>\n",
       "      <th></th>\n",
       "    </tr>\n",
       "  </thead>\n",
       "  <tbody>\n",
       "    <tr>\n",
       "      <th>-1.0</th>\n",
       "      <td>2916.0</td>\n",
       "      <td>0.0</td>\n",
       "      <td>0.0</td>\n",
       "    </tr>\n",
       "    <tr>\n",
       "      <th>-0.5</th>\n",
       "      <td>4259.0</td>\n",
       "      <td>119.0</td>\n",
       "      <td>0.0</td>\n",
       "    </tr>\n",
       "    <tr>\n",
       "      <th>0.0</th>\n",
       "      <td>2398.0</td>\n",
       "      <td>162.0</td>\n",
       "      <td>3255.0</td>\n",
       "    </tr>\n",
       "    <tr>\n",
       "      <th>0.5</th>\n",
       "      <td>0.0</td>\n",
       "      <td>86.0</td>\n",
       "      <td>4236.0</td>\n",
       "    </tr>\n",
       "    <tr>\n",
       "      <th>1.0</th>\n",
       "      <td>0.0</td>\n",
       "      <td>0.0</td>\n",
       "      <td>2085.0</td>\n",
       "    </tr>\n",
       "  </tbody>\n",
       "</table>\n",
       "</div>"
      ],
      "text/plain": [
       "s        1.0    1.5     2.0\n",
       "dif                        \n",
       "-1.0  2916.0    0.0     0.0\n",
       "-0.5  4259.0  119.0     0.0\n",
       " 0.0  2398.0  162.0  3255.0\n",
       " 0.5     0.0   86.0  4236.0\n",
       " 1.0     0.0    0.0  2085.0"
      ]
     },
     "execution_count": 21,
     "metadata": {},
     "output_type": "execute_result"
    }
   ],
   "source": [
    "mtrx(r1(ds,x),y)"
   ]
  },
  {
   "cell_type": "code",
   "execution_count": 22,
   "metadata": {
    "collapsed": false
   },
   "outputs": [
    {
     "data": {
      "text/html": [
       "<div>\n",
       "<style>\n",
       "    .dataframe thead tr:only-child th {\n",
       "        text-align: right;\n",
       "    }\n",
       "\n",
       "    .dataframe thead th {\n",
       "        text-align: left;\n",
       "    }\n",
       "\n",
       "    .dataframe tbody tr th {\n",
       "        vertical-align: top;\n",
       "    }\n",
       "</style>\n",
       "<table border=\"1\" class=\"dataframe\">\n",
       "  <thead>\n",
       "    <tr style=\"text-align: right;\">\n",
       "      <th>s</th>\n",
       "      <th>1.0</th>\n",
       "      <th>1.5</th>\n",
       "      <th>2.0</th>\n",
       "    </tr>\n",
       "    <tr>\n",
       "      <th>dif</th>\n",
       "      <th></th>\n",
       "      <th></th>\n",
       "      <th></th>\n",
       "    </tr>\n",
       "  </thead>\n",
       "  <tbody>\n",
       "    <tr>\n",
       "      <th>-1.0</th>\n",
       "      <td>0.149416</td>\n",
       "      <td>0.000000</td>\n",
       "      <td>0.000000</td>\n",
       "    </tr>\n",
       "    <tr>\n",
       "      <th>-0.5</th>\n",
       "      <td>0.218231</td>\n",
       "      <td>0.006098</td>\n",
       "      <td>0.000000</td>\n",
       "    </tr>\n",
       "    <tr>\n",
       "      <th>0.0</th>\n",
       "      <td>0.122874</td>\n",
       "      <td>0.008301</td>\n",
       "      <td>0.166786</td>\n",
       "    </tr>\n",
       "    <tr>\n",
       "      <th>0.5</th>\n",
       "      <td>0.000000</td>\n",
       "      <td>0.004407</td>\n",
       "      <td>0.217053</td>\n",
       "    </tr>\n",
       "    <tr>\n",
       "      <th>1.0</th>\n",
       "      <td>0.000000</td>\n",
       "      <td>0.000000</td>\n",
       "      <td>0.106835</td>\n",
       "    </tr>\n",
       "  </tbody>\n",
       "</table>\n",
       "</div>"
      ],
      "text/plain": [
       "s          1.0       1.5       2.0\n",
       "dif                               \n",
       "-1.0  0.149416  0.000000  0.000000\n",
       "-0.5  0.218231  0.006098  0.000000\n",
       " 0.0  0.122874  0.008301  0.166786\n",
       " 0.5  0.000000  0.004407  0.217053\n",
       " 1.0  0.000000  0.000000  0.106835"
      ]
     },
     "execution_count": 22,
     "metadata": {},
     "output_type": "execute_result"
    }
   ],
   "source": [
    "mtrxn(r1(ds,x),y)"
   ]
  },
  {
   "cell_type": "code",
   "execution_count": 23,
   "metadata": {
    "collapsed": true
   },
   "outputs": [],
   "source": [
    "# Можно увидеть низкую долю предсказанных ничьих. И 25 процентов непопадений на очко и более. \n",
    "# Модель откровенно плоха, но, возможно, её можно быстро улучшить"
   ]
  },
  {
   "cell_type": "markdown",
   "metadata": {},
   "source": [
    "### Модель 1.1"
   ]
  },
  {
   "cell_type": "markdown",
   "metadata": {},
   "source": [
    "Небольшое улучшение первой. \n",
    "Оно состоит в том, что игрок побеждает, если разность рейтингов выше параметра k, иначе - ничья.\n",
    "Параметр определим экспериментально."
   ]
  },
  {
   "cell_type": "code",
   "execution_count": 24,
   "metadata": {
    "collapsed": true
   },
   "outputs": [],
   "source": [
    "k=1.9 # Единственный параметр модели"
   ]
  },
  {
   "cell_type": "code",
   "execution_count": 25,
   "metadata": {
    "collapsed": true
   },
   "outputs": [],
   "source": [
    "# Определяем функцию новой модели\n",
    "def r11(ds, x):\n",
    "    rb=plst(ds)\n",
    "    # вытащили и сохранили статистику\n",
    "    rb['rat']=rb['sum_tot']/rb['games_tot']\n",
    "    # единый рейтинг у человека за всё время по выбранному параметру\n",
    "    rb=rb.fillna(0)\n",
    "    r11=defr(x, rb)\n",
    "    # Притягиваем полученный нами рейтинг к каждой партии из тренровочной выборки\n",
    "    r11['s']=np.where((r11['w_rat']-r11['b_rat'])>k, 2.0, np.where((r11['b_rat']-r11['w_rat'])>k,1.0, 1.5))\n",
    "    # Предсказываем результат. У кого больше, того и тапки. Ничья только если все рейтинги равны\n",
    "    return r11"
   ]
  },
  {
   "cell_type": "code",
   "execution_count": 26,
   "metadata": {
    "collapsed": false
   },
   "outputs": [
    {
     "name": "stderr",
     "output_type": "stream",
     "text": [
      "/opt/python/lib/python2.7/site-packages/scipy/stats/stats.py:3021: RuntimeWarning: invalid value encountered in double_scalars\n",
      "  r = r_num / r_den\n"
     ]
    }
   ],
   "source": [
    "# Определяем оптимальное значение параметра\n",
    "# Просто пробегаем в цикле все приемлемые значения\n",
    "lk=[]\n",
    "lq=[]\n",
    "lc=[]\n",
    "for i in range(22):\n",
    "    k=0.1+i*0.1 #первое значение параметра 0.1, последнее - 2.3\n",
    "    r=r11(ds,x)\n",
    "    lk.append(k)\n",
    "    lq.append(comp(r, y))\n",
    "    lc.append(corr(r,y))"
   ]
  },
  {
   "cell_type": "code",
   "execution_count": 27,
   "metadata": {
    "collapsed": false
   },
   "outputs": [
    {
     "data": {
      "text/plain": [
       "[<matplotlib.lines.Line2D at 0x7fdec3f4e090>]"
      ]
     },
     "execution_count": 27,
     "metadata": {},
     "output_type": "execute_result"
    },
    {
     "data": {
      "image/png": "[encoded data removed]",
      "text/plain": [
       "<matplotlib.figure.Figure at 0x7fdec3e41790>"
      ]
     },
     "metadata": {},
     "output_type": "display_data"
    }
   ],
   "source": [
    "plot(lk, lq)"
   ]
  },
  {
   "cell_type": "code",
   "execution_count": 28,
   "metadata": {
    "collapsed": true
   },
   "outputs": [],
   "source": [
    "# Как только параметр стал таким, что ВСЕ партии прогнозируются сыгранными вничью, результат стал хуже рандома"
   ]
  },
  {
   "cell_type": "code",
   "execution_count": 29,
   "metadata": {
    "collapsed": false
   },
   "outputs": [
    {
     "data": {
      "text/plain": [
       "[<matplotlib.lines.Line2D at 0x7fdec3e0ef50>]"
      ]
     },
     "execution_count": 29,
     "metadata": {},
     "output_type": "execute_result"
    },
    {
     "data": {
      "image/png": "[encoded data removed]",
      "text/plain": [
       "<matplotlib.figure.Figure at 0x7fdec3f68150>"
      ]
     },
     "metadata": {},
     "output_type": "display_data"
    }
   ],
   "source": [
    "plot(lk, lc)"
   ]
  },
  {
   "cell_type": "code",
   "execution_count": 30,
   "metadata": {
    "collapsed": true
   },
   "outputs": [],
   "source": [
    "# Корреляция слабо падает ещё раньше\n",
    "# Таким образом, оптимальное значение параметра - это 0.5"
   ]
  },
  {
   "cell_type": "code",
   "execution_count": 31,
   "metadata": {
    "collapsed": false
   },
   "outputs": [
    {
     "name": "stdout",
     "output_type": "stream",
     "text": [
      "('Sqr_div: ', 2849.75)\n",
      "('Correl: ', 0.087909598248360921)\n",
      "('Share: ', 0.45127075220332036)\n"
     ]
    }
   ],
   "source": [
    "k=0.5\n",
    "# Выводим метрики качества\n",
    "acm(r11(ds, x),y)"
   ]
  },
  {
   "cell_type": "code",
   "execution_count": 32,
   "metadata": {
    "collapsed": true
   },
   "outputs": [],
   "source": [
    "# Лучше рандома по всем показателям. Плохо, конечно"
   ]
  },
  {
   "cell_type": "code",
   "execution_count": 33,
   "metadata": {
    "collapsed": false
   },
   "outputs": [
    {
     "data": {
      "text/html": [
       "<div>\n",
       "<style>\n",
       "    .dataframe thead tr:only-child th {\n",
       "        text-align: right;\n",
       "    }\n",
       "\n",
       "    .dataframe thead th {\n",
       "        text-align: left;\n",
       "    }\n",
       "\n",
       "    .dataframe tbody tr th {\n",
       "        vertical-align: top;\n",
       "    }\n",
       "</style>\n",
       "<table border=\"1\" class=\"dataframe\">\n",
       "  <thead>\n",
       "    <tr style=\"text-align: right;\">\n",
       "      <th>s</th>\n",
       "      <th>1.0</th>\n",
       "      <th>1.5</th>\n",
       "      <th>2.0</th>\n",
       "    </tr>\n",
       "    <tr>\n",
       "      <th>dif</th>\n",
       "      <th></th>\n",
       "      <th></th>\n",
       "      <th></th>\n",
       "    </tr>\n",
       "  </thead>\n",
       "  <tbody>\n",
       "    <tr>\n",
       "      <th>-1.0</th>\n",
       "      <td>2916.0</td>\n",
       "      <td>0.0</td>\n",
       "      <td>0.0</td>\n",
       "    </tr>\n",
       "    <tr>\n",
       "      <th>-0.5</th>\n",
       "      <td>4259.0</td>\n",
       "      <td>119.0</td>\n",
       "      <td>0.0</td>\n",
       "    </tr>\n",
       "    <tr>\n",
       "      <th>0.0</th>\n",
       "      <td>2398.0</td>\n",
       "      <td>162.0</td>\n",
       "      <td>3255.0</td>\n",
       "    </tr>\n",
       "    <tr>\n",
       "      <th>0.5</th>\n",
       "      <td>0.0</td>\n",
       "      <td>86.0</td>\n",
       "      <td>4236.0</td>\n",
       "    </tr>\n",
       "    <tr>\n",
       "      <th>1.0</th>\n",
       "      <td>0.0</td>\n",
       "      <td>0.0</td>\n",
       "      <td>2085.0</td>\n",
       "    </tr>\n",
       "  </tbody>\n",
       "</table>\n",
       "</div>"
      ],
      "text/plain": [
       "s        1.0    1.5     2.0\n",
       "dif                        \n",
       "-1.0  2916.0    0.0     0.0\n",
       "-0.5  4259.0  119.0     0.0\n",
       " 0.0  2398.0  162.0  3255.0\n",
       " 0.5     0.0   86.0  4236.0\n",
       " 1.0     0.0    0.0  2085.0"
      ]
     },
     "execution_count": 33,
     "metadata": {},
     "output_type": "execute_result"
    }
   ],
   "source": [
    "mtrx(r1(ds,x),y)"
   ]
  },
  {
   "cell_type": "code",
   "execution_count": 34,
   "metadata": {
    "collapsed": false
   },
   "outputs": [
    {
     "data": {
      "text/html": [
       "<div>\n",
       "<style>\n",
       "    .dataframe thead tr:only-child th {\n",
       "        text-align: right;\n",
       "    }\n",
       "\n",
       "    .dataframe thead th {\n",
       "        text-align: left;\n",
       "    }\n",
       "\n",
       "    .dataframe tbody tr th {\n",
       "        vertical-align: top;\n",
       "    }\n",
       "</style>\n",
       "<table border=\"1\" class=\"dataframe\">\n",
       "  <thead>\n",
       "    <tr style=\"text-align: right;\">\n",
       "      <th>s</th>\n",
       "      <th>1.0</th>\n",
       "      <th>1.5</th>\n",
       "      <th>2.0</th>\n",
       "    </tr>\n",
       "    <tr>\n",
       "      <th>dif</th>\n",
       "      <th></th>\n",
       "      <th></th>\n",
       "      <th></th>\n",
       "    </tr>\n",
       "  </thead>\n",
       "  <tbody>\n",
       "    <tr>\n",
       "      <th>-1.0</th>\n",
       "      <td>0.149416</td>\n",
       "      <td>0.000000</td>\n",
       "      <td>0.000000</td>\n",
       "    </tr>\n",
       "    <tr>\n",
       "      <th>-0.5</th>\n",
       "      <td>0.218231</td>\n",
       "      <td>0.006098</td>\n",
       "      <td>0.000000</td>\n",
       "    </tr>\n",
       "    <tr>\n",
       "      <th>0.0</th>\n",
       "      <td>0.122874</td>\n",
       "      <td>0.008301</td>\n",
       "      <td>0.166786</td>\n",
       "    </tr>\n",
       "    <tr>\n",
       "      <th>0.5</th>\n",
       "      <td>0.000000</td>\n",
       "      <td>0.004407</td>\n",
       "      <td>0.217053</td>\n",
       "    </tr>\n",
       "    <tr>\n",
       "      <th>1.0</th>\n",
       "      <td>0.000000</td>\n",
       "      <td>0.000000</td>\n",
       "      <td>0.106835</td>\n",
       "    </tr>\n",
       "  </tbody>\n",
       "</table>\n",
       "</div>"
      ],
      "text/plain": [
       "s          1.0       1.5       2.0\n",
       "dif                               \n",
       "-1.0  0.149416  0.000000  0.000000\n",
       "-0.5  0.218231  0.006098  0.000000\n",
       " 0.0  0.122874  0.008301  0.166786\n",
       " 0.5  0.000000  0.004407  0.217053\n",
       " 1.0  0.000000  0.000000  0.106835"
      ]
     },
     "execution_count": 34,
     "metadata": {},
     "output_type": "execute_result"
    }
   ],
   "source": [
    "mtrxn(r1(ds,x),y)"
   ]
  },
  {
   "cell_type": "code",
   "execution_count": 35,
   "metadata": {
    "collapsed": true
   },
   "outputs": [],
   "source": [
    "# Ничейная смерть побеждена, но ошибка \"на два результат\" в 25 процентов случаев не исправилась "
   ]
  },
  {
   "cell_type": "markdown",
   "metadata": {},
   "source": [
    "### Модель №2. Официальный рейтинг ЭЛО"
   ]
  },
  {
   "cell_type": "markdown",
   "metadata": {},
   "source": [
    "В качестве следующей модели возьмём тот рейтинг, который официально применяется в шахматах (https://ru.wikipedia.org/wiki/Рейтинг_Эло) ровно с теми параметрами. Его предсказательная сила должна быть хорошей."
   ]
  },
  {
   "cell_type": "markdown",
   "metadata": {},
   "source": [
    "Основная идея рейтинга ЭЛО в том, что перед каждой партией строится ожидаемый результат этой партии, который сверяется с фактическим. \n",
    "Определением результата по рейтингу - вероятностное. Человек, рейтинг которого выше на 200 пунктов, должен побеждать в 76 процентов случаев.\n",
    "В этой модели мы в первые будет вытаскивать результат конкретной партии."
   ]
  },
  {
   "cell_type": "code",
   "execution_count": 36,
   "metadata": {
    "collapsed": true
   },
   "outputs": [],
   "source": [
    "# Определяем параметры модили\n",
    "k=40\n",
    "z=400\n",
    "#параметры модели, взяты с официального шахматного рейтинга\n",
    "\n",
    "rst=1600\n",
    "#начальный рейтинг - более-менее произвольное число"
   ]
  },
  {
   "cell_type": "code",
   "execution_count": 37,
   "metadata": {
    "collapsed": true
   },
   "outputs": [],
   "source": [
    "# Первая функция модели, строит текущие рейтинги\n",
    "# N.B. На данный момент не хранит историю изменений, только актуальные рейтинги\n",
    "# Сохраняем нужные нам данные в списки, ведём словарь текущих рейтингов и в цикле после каждой партии его обновляем\n",
    "# Функция вовзращает словарь с самыми актуальными рейтингами на момент запуска\n",
    "def elo(ds):\n",
    "    ds=ds.sort_values(by='m')\n",
    "    #отсортировали по времени\n",
    "    r2=ds\n",
    "    r2['w_exp']=0\n",
    "    r2['b_exp']=0\n",
    "    # создаём поля для ожидаемых значений, пока пустые\n",
    "    \n",
    "    rd=plst(ds) #вытащили статистику из обуцчающей выборкм\n",
    "    rd=rd[['id', 'rat']] #на самом деле, нам кроме полного списка игроков особо ничего и не нужно\n",
    "    rd['id']=rd['id'].astype('Int64')\n",
    "    rd['rat']=rst #положили начальный рейтинг\n",
    "    lst=list(rd.values)\n",
    "    drat=dict(lst)\n",
    "    # конвертировали в словарь, для улучшения скорости\n",
    "    \n",
    "    w=list(r2['w'])\n",
    "    b=list(r2['b'])\n",
    "    s=list(r2['s'])\n",
    "    w_exp=list(r2['w_exp'])\n",
    "    b_exp=list(r2['b_exp'])\n",
    "    # ковертировали важные поля в списки, так просто быстрее считатеся\n",
    "    \n",
    "    n=len(r2['s']) # длина массива\n",
    "    #n=40\n",
    "    for i in range(n):\n",
    "        if drat.get(w[i])<0: \n",
    "            rw=rst\n",
    "        else:\n",
    "            rw=drat.get(w[i])\n",
    "        if drat.get(b[i])<0:\n",
    "            rb=rst\n",
    "        else:\n",
    "            rb=drat.get(b[i])\n",
    "        #проверка если вдруг игрока нет в списке игроков\n",
    "        \n",
    "        w_exp[i]=float(1)/(1+pow(10, (-rw+rb)/z))+1\n",
    "        b_exp[i]=float(1)/(1+pow(10, (-rb+rw)/z))+1\n",
    "        # формулы расчёта ожидаемого значения партии\n",
    "        \n",
    "        db1={w[i]: rw+k*(s[i]-w_exp[i])}\n",
    "        db2={b[i]: rb+k*(3-s[i]-b_exp[i])}\n",
    "        # изменение рейтогов исходя из разницы ожидания и действительности\n",
    "        drat.update(db1)\n",
    "        drat.update(db2)\n",
    "        # обновляем словарь текущих рейтингов\n",
    "    d=drat\n",
    "    return d"
   ]
  },
  {
   "cell_type": "code",
   "execution_count": 38,
   "metadata": {
    "collapsed": false
   },
   "outputs": [
    {
     "data": {
      "text/plain": [
       "1673.4589229523272"
      ]
     },
     "execution_count": 38,
     "metadata": {},
     "output_type": "execute_result"
    }
   ],
   "source": [
    "elo(ds).get(1)"
   ]
  },
  {
   "cell_type": "code",
   "execution_count": 39,
   "metadata": {
    "collapsed": true
   },
   "outputs": [],
   "source": [
    "def r2(drat,x):\n",
    "    pdrat=pd.DataFrame(drat.values(), index=drat.keys()) \n",
    "    pdrat['id']=pdrat.index\n",
    "    pdrat['id']=pdrat['id'].astype('Int64')\n",
    "    pdrat = pdrat.rename(columns={0: 'rat'})\n",
    "    # конвертировали словарь в датафрейм\n",
    "    \n",
    "    r=defr(x, pdrat)\n",
    "    # подтянули рейтинги к реальным партиям\n",
    "    r['se']=float(1)/(1+pow(10, (-r['w_rat']+r['b_rat'])/z))+1\n",
    "    # высчитали ожидаемое значение\n",
    "\n",
    "    r['s']=np.where((r['se']<1.25),1.0,np.where((r['se']>1.75),2.0,1.5))\n",
    "    # округлили ожидаемое значение до одного из трёх вариантов\n",
    "    return r"
   ]
  },
  {
   "cell_type": "code",
   "execution_count": 40,
   "metadata": {
    "collapsed": false
   },
   "outputs": [
    {
     "data": {
      "text/html": [
       "<div>\n",
       "<style>\n",
       "    .dataframe thead tr:only-child th {\n",
       "        text-align: right;\n",
       "    }\n",
       "\n",
       "    .dataframe thead th {\n",
       "        text-align: left;\n",
       "    }\n",
       "\n",
       "    .dataframe tbody tr th {\n",
       "        vertical-align: top;\n",
       "    }\n",
       "</style>\n",
       "<table border=\"1\" class=\"dataframe\">\n",
       "  <thead>\n",
       "    <tr style=\"text-align: right;\">\n",
       "      <th></th>\n",
       "      <th>m</th>\n",
       "      <th>w</th>\n",
       "      <th>b</th>\n",
       "      <th>w_rat</th>\n",
       "      <th>b_rat</th>\n",
       "      <th>se</th>\n",
       "      <th>s</th>\n",
       "    </tr>\n",
       "  </thead>\n",
       "  <tbody>\n",
       "    <tr>\n",
       "      <th>0</th>\n",
       "      <td>34.0</td>\n",
       "      <td>1200.0</td>\n",
       "      <td>4432.0</td>\n",
       "      <td>1603.807889</td>\n",
       "      <td>1604.718925</td>\n",
       "      <td>1.498689</td>\n",
       "      <td>1.5</td>\n",
       "    </tr>\n",
       "    <tr>\n",
       "      <th>1</th>\n",
       "      <td>9.0</td>\n",
       "      <td>3824.0</td>\n",
       "      <td>8299.0</td>\n",
       "      <td>1713.928009</td>\n",
       "      <td>1615.261966</td>\n",
       "      <td>1.638294</td>\n",
       "      <td>1.5</td>\n",
       "    </tr>\n",
       "    <tr>\n",
       "      <th>2</th>\n",
       "      <td>69.0</td>\n",
       "      <td>172.0</td>\n",
       "      <td>6578.0</td>\n",
       "      <td>1638.877572</td>\n",
       "      <td>1594.829415</td>\n",
       "      <td>1.563053</td>\n",
       "      <td>1.5</td>\n",
       "    </tr>\n",
       "  </tbody>\n",
       "</table>\n",
       "</div>"
      ],
      "text/plain": [
       "      m       w       b        w_rat        b_rat        se    s\n",
       "0  34.0  1200.0  4432.0  1603.807889  1604.718925  1.498689  1.5\n",
       "1   9.0  3824.0  8299.0  1713.928009  1615.261966  1.638294  1.5\n",
       "2  69.0   172.0  6578.0  1638.877572  1594.829415  1.563053  1.5"
      ]
     },
     "execution_count": 40,
     "metadata": {},
     "output_type": "execute_result"
    }
   ],
   "source": [
    "r2(elo(ds),x).head(3)"
   ]
  },
  {
   "cell_type": "code",
   "execution_count": 41,
   "metadata": {
    "collapsed": false
   },
   "outputs": [
    {
     "name": "stdout",
     "output_type": "stream",
     "text": [
      "('Sqr_div: ', 2737.0)\n",
      "('Correl: ', 0.15877229643845134)\n",
      "('Share: ', 0.4602377536380406)\n"
     ]
    }
   ],
   "source": [
    "# Выводим метрики качества\n",
    "acm(r2(elo(ds),x),y)"
   ]
  },
  {
   "cell_type": "code",
   "execution_count": 42,
   "metadata": {
    "collapsed": true
   },
   "outputs": [],
   "source": [
    "# Это уже что-то. Хотя ожидалось сильно лучше"
   ]
  },
  {
   "cell_type": "code",
   "execution_count": 43,
   "metadata": {
    "collapsed": false
   },
   "outputs": [
    {
     "data": {
      "text/html": [
       "<div>\n",
       "<style>\n",
       "    .dataframe thead tr:only-child th {\n",
       "        text-align: right;\n",
       "    }\n",
       "\n",
       "    .dataframe thead th {\n",
       "        text-align: left;\n",
       "    }\n",
       "\n",
       "    .dataframe tbody tr th {\n",
       "        vertical-align: top;\n",
       "    }\n",
       "</style>\n",
       "<table border=\"1\" class=\"dataframe\">\n",
       "  <thead>\n",
       "    <tr style=\"text-align: right;\">\n",
       "      <th>s</th>\n",
       "      <th>1.0</th>\n",
       "      <th>1.5</th>\n",
       "      <th>2.0</th>\n",
       "    </tr>\n",
       "    <tr>\n",
       "      <th>dif</th>\n",
       "      <th></th>\n",
       "      <th></th>\n",
       "      <th></th>\n",
       "    </tr>\n",
       "  </thead>\n",
       "  <tbody>\n",
       "    <tr>\n",
       "      <th>-1.0</th>\n",
       "      <td>92.0</td>\n",
       "      <td>0.0</td>\n",
       "      <td>0.0</td>\n",
       "    </tr>\n",
       "    <tr>\n",
       "      <th>-0.5</th>\n",
       "      <td>229.0</td>\n",
       "      <td>5784.0</td>\n",
       "      <td>0.0</td>\n",
       "    </tr>\n",
       "    <tr>\n",
       "      <th>0.0</th>\n",
       "      <td>305.0</td>\n",
       "      <td>8263.0</td>\n",
       "      <td>414.0</td>\n",
       "    </tr>\n",
       "    <tr>\n",
       "      <th>0.5</th>\n",
       "      <td>0.0</td>\n",
       "      <td>4218.0</td>\n",
       "      <td>165.0</td>\n",
       "    </tr>\n",
       "    <tr>\n",
       "      <th>1.0</th>\n",
       "      <td>0.0</td>\n",
       "      <td>0.0</td>\n",
       "      <td>46.0</td>\n",
       "    </tr>\n",
       "  </tbody>\n",
       "</table>\n",
       "</div>"
      ],
      "text/plain": [
       "s       1.0     1.5    2.0\n",
       "dif                       \n",
       "-1.0   92.0     0.0    0.0\n",
       "-0.5  229.0  5784.0    0.0\n",
       " 0.0  305.0  8263.0  414.0\n",
       " 0.5    0.0  4218.0  165.0\n",
       " 1.0    0.0     0.0   46.0"
      ]
     },
     "execution_count": 43,
     "metadata": {},
     "output_type": "execute_result"
    }
   ],
   "source": [
    "mtrx(r2(elo(ds),x),y)"
   ]
  },
  {
   "cell_type": "code",
   "execution_count": 46,
   "metadata": {
    "collapsed": false
   },
   "outputs": [
    {
     "data": {
      "text/html": [
       "<div>\n",
       "<style>\n",
       "    .dataframe thead tr:only-child th {\n",
       "        text-align: right;\n",
       "    }\n",
       "\n",
       "    .dataframe thead th {\n",
       "        text-align: left;\n",
       "    }\n",
       "\n",
       "    .dataframe tbody tr th {\n",
       "        vertical-align: top;\n",
       "    }\n",
       "</style>\n",
       "<table border=\"1\" class=\"dataframe\">\n",
       "  <thead>\n",
       "    <tr style=\"text-align: right;\">\n",
       "      <th>s</th>\n",
       "      <th>1.0</th>\n",
       "      <th>1.5</th>\n",
       "      <th>2.0</th>\n",
       "    </tr>\n",
       "    <tr>\n",
       "      <th>dif</th>\n",
       "      <th></th>\n",
       "      <th></th>\n",
       "      <th></th>\n",
       "    </tr>\n",
       "  </thead>\n",
       "  <tbody>\n",
       "    <tr>\n",
       "      <th>-1.0</th>\n",
       "      <td>0.004714</td>\n",
       "      <td>0.000000</td>\n",
       "      <td>0.000000</td>\n",
       "    </tr>\n",
       "    <tr>\n",
       "      <th>-0.5</th>\n",
       "      <td>0.011734</td>\n",
       "      <td>0.296372</td>\n",
       "      <td>0.000000</td>\n",
       "    </tr>\n",
       "    <tr>\n",
       "      <th>0.0</th>\n",
       "      <td>0.015628</td>\n",
       "      <td>0.423396</td>\n",
       "      <td>0.021213</td>\n",
       "    </tr>\n",
       "    <tr>\n",
       "      <th>0.5</th>\n",
       "      <td>0.000000</td>\n",
       "      <td>0.216130</td>\n",
       "      <td>0.008455</td>\n",
       "    </tr>\n",
       "    <tr>\n",
       "      <th>1.0</th>\n",
       "      <td>0.000000</td>\n",
       "      <td>0.000000</td>\n",
       "      <td>0.002357</td>\n",
       "    </tr>\n",
       "  </tbody>\n",
       "</table>\n",
       "</div>"
      ],
      "text/plain": [
       "s          1.0       1.5       2.0\n",
       "dif                               \n",
       "-1.0  0.004714  0.000000  0.000000\n",
       "-0.5  0.011734  0.296372  0.000000\n",
       " 0.0  0.015628  0.423396  0.021213\n",
       " 0.5  0.000000  0.216130  0.008455\n",
       " 1.0  0.000000  0.000000  0.002357"
      ]
     },
     "execution_count": 46,
     "metadata": {},
     "output_type": "execute_result"
    }
   ],
   "source": [
    "mtrxn(r2(elo(ds),x),y)"
   ]
  },
  {
   "cell_type": "code",
   "execution_count": 45,
   "metadata": {
    "collapsed": true
   },
   "outputs": [],
   "source": [
    "# Меньше процента ошибки на \"2 результата\"! Это успех!"
   ]
  },
  {
   "cell_type": "code",
   "execution_count": 108,
   "metadata": {
    "collapsed": false
   },
   "outputs": [
    {
     "data": {
      "text/plain": [
       "1.5    18930\n",
       "1.0      297\n",
       "2.0      289\n",
       "Name: s, dtype: int64"
      ]
     },
     "execution_count": 108,
     "metadata": {},
     "output_type": "execute_result"
    }
   ],
   "source": [
    "r2(elo(ds),x)['s'].value_counts()"
   ]
  },
  {
   "cell_type": "markdown",
   "metadata": {},
   "source": [
    "### Модель №3. Пробуем машинное обучение"
   ]
  },
  {
   "cell_type": "markdown",
   "metadata": {},
   "source": [
    "Попробуем различные методики машинного обучения."
   ]
  },
  {
   "cell_type": "markdown",
   "metadata": {},
   "source": [
    "Логичнее всего начать с обычного бинарного дерева. В качестве фичей используем всё, что у нас есть: месяц, id чёрных и белых"
   ]
  },
  {
   "cell_type": "code",
   "execution_count": 180,
   "metadata": {
    "collapsed": false
   },
   "outputs": [],
   "source": [
    "def wr_tree(clf_tree, fnames):\n",
    "    export_graphviz(clf_tree, feature_names=fnames, \n",
    "    out_file='small_tree.dot', filled=True)\n",
    "    # для этого понадобится библиотека pydot (pip install pydot)\n",
    "    !dot -Tpng 'small_tree.dot' -o 'small_tree.png'"
   ]
  },
  {
   "cell_type": "code",
   "execution_count": 184,
   "metadata": {
    "collapsed": true
   },
   "outputs": [],
   "source": [
    "md=4\n",
    "def r3(ds,x, md):\n",
    "    tr_x=ds[['m', 'w', 'b']]\n",
    "    tr_y=ds['s']*10\n",
    "    tr_y=tr_y.astype('Int64')\n",
    "    # разделили данные на фичи и результат\n",
    "    \n",
    "    rst=17\n",
    "    # параметры модели\n",
    "    \n",
    "    clf_tree = DecisionTreeClassifier(criterion='entropy', max_depth=md, random_state=rst)\n",
    "    # загрузили модель\n",
    "    clf_tree.fit(tr_x, tr_y)\n",
    "    # обучились\n",
    "    r3=pd.DataFrame(clf_tree.predict(x))\n",
    "    # предсказались\n",
    "    \n",
    "    r3=r3.rename(index=str, columns={0: \"s\"})\n",
    "    r3['s']=r3['s']/10\n",
    "    #небольшие шаманства с датафреймом, чтобы было лучше жить\n",
    "    \n",
    "    wr_tree(clf_tree, ['m','w', 'b'])\n",
    "    #и нарисуем картиночку в файл\n",
    "    return r3"
   ]
  },
  {
   "cell_type": "code",
   "execution_count": 186,
   "metadata": {
    "collapsed": false
   },
   "outputs": [],
   "source": [
    "# смотрим параметр md\n",
    "lk=[]\n",
    "lq=[]\n",
    "lc=[]\n",
    "for i in range(1,10):\n",
    "    md=i\n",
    "    rbuf=r3(ds,x, md)\n",
    "    lk.append(md)\n",
    "    lq.append(comp(rbuf, y))\n",
    "    lc.append(corr(rbuf,y))"
   ]
  },
  {
   "cell_type": "code",
   "execution_count": 188,
   "metadata": {
    "collapsed": false
   },
   "outputs": [
    {
     "data": {
      "text/plain": [
       "[<matplotlib.lines.Line2D at 0x7fdedf9a0690>]"
      ]
     },
     "execution_count": 188,
     "metadata": {},
     "output_type": "execute_result"
    },
    {
     "data": {
      "image/png": "[encoded data removed]",
      "text/plain": [
       "<matplotlib.figure.Figure at 0x7fdee6f6f4d0>"
      ]
     },
     "metadata": {},
     "output_type": "display_data"
    }
   ],
   "source": [
    "plot(lk,lq)"
   ]
  },
  {
   "cell_type": "code",
   "execution_count": 189,
   "metadata": {
    "collapsed": false
   },
   "outputs": [
    {
     "data": {
      "text/plain": [
       "[<matplotlib.lines.Line2D at 0x7fdedf8eca10>]"
      ]
     },
     "execution_count": 189,
     "metadata": {},
     "output_type": "execute_result"
    },
    {
     "data": {
      "image/png": "[encoded data removed]",
      "text/plain": [
       "<matplotlib.figure.Figure at 0x7fdedf96d350>"
      ]
     },
     "metadata": {},
     "output_type": "display_data"
    }
   ],
   "source": [
    "plot(lk,lc)"
   ]
  },
  {
   "cell_type": "code",
   "execution_count": 145,
   "metadata": {
    "collapsed": true
   },
   "outputs": [],
   "source": [
    "#md=4 - вариант, который имеет смысл рассмотреть"
   ]
  },
  {
   "cell_type": "code",
   "execution_count": 190,
   "metadata": {
    "collapsed": false
   },
   "outputs": [
    {
     "name": "stdout",
     "output_type": "stream",
     "text": [
      "('Sqr_div: ', 2741.0)\n",
      "('Correl: ', 0.022095119469931312)\n",
      "('Share: ', 0.44343103094896497)\n"
     ]
    }
   ],
   "source": [
    "# Выводим метрики качества\n",
    "acm(r3(ds,x,4),y)"
   ]
  },
  {
   "cell_type": "code",
   "execution_count": 192,
   "metadata": {
    "collapsed": true
   },
   "outputs": [],
   "source": [
    "# Рехультат не очень"
   ]
  },
  {
   "cell_type": "code",
   "execution_count": 191,
   "metadata": {
    "collapsed": false
   },
   "outputs": [
    {
     "data": {
      "text/plain": [
       "1.5    19371\n",
       "1.0      115\n",
       "2.0       30\n",
       "Name: s, dtype: int64"
      ]
     },
     "execution_count": 191,
     "metadata": {},
     "output_type": "execute_result"
    }
   ],
   "source": [
    "r3(ds,x,4)['s'].value_counts()"
   ]
  },
  {
   "cell_type": "markdown",
   "metadata": {},
   "source": [
    "Попробуем в качестве фичи подать среднее число очков, набранных игроком ранее"
   ]
  },
  {
   "cell_type": "code",
   "execution_count": 247,
   "metadata": {
    "collapsed": true
   },
   "outputs": [],
   "source": [
    "def r31(ds,x, md):\n",
    "    st=plst(ds)\n",
    "    # подтащили статистику\n",
    "    st['rat']=st['sum_tot']/st['games_tot']\n",
    "    # подтянем рейтинг из модели 1\n",
    "    dst=defr(ds, st)\n",
    "    xst=defr(x,st)\n",
    "    # подтянули рейтинг по idшнику\n",
    "    dst['s']=list(ds['s'])\n",
    "    dst=dst.fillna(0)\n",
    "    \n",
    "    x=xst[['m','w_rat', 'b_rat']]\n",
    "    x=x.fillna(0)\n",
    "    \n",
    "    tr_x=dst[['m','w_rat', 'b_rat']]\n",
    "    tr_y=dst['s']*10\n",
    "    tr_y=tr_y.astype('Int64')\n",
    "    # разделили данные на фичи и результат\n",
    "    \n",
    "    \n",
    "    \n",
    "    rst=17\n",
    "    # параметр модели\n",
    "    \n",
    "    clf_tree = DecisionTreeClassifier(criterion='entropy', max_depth=md, random_state=rst)\n",
    "    # загрузили модель\n",
    "    clf_tree.fit(tr_x, tr_y)\n",
    "    # обучились\n",
    "    r3=pd.DataFrame(clf_tree.predict(x))\n",
    "    # предсказались\n",
    "    \n",
    "    r3=r3.rename(index=str, columns={0: \"s\"})\n",
    "    r3['s']=r3['s']/10\n",
    "    #небольшие шаманства с датафреймом, чтобы было лучше жить\n",
    "    \n",
    "    wr_tree(clf_tree, ['m','w_rat', 'b_rat'])\n",
    "    #и нарисуем картиночку в файл\n",
    "    return r3"
   ]
  },
  {
   "cell_type": "code",
   "execution_count": 255,
   "metadata": {
    "collapsed": false
   },
   "outputs": [
    {
     "name": "stdout",
     "output_type": "stream",
     "text": [
      "dot: graph is too large for cairo-renderer bitmaps. Scaling by 0.818909 to fit\r\n"
     ]
    }
   ],
   "source": [
    "# смотрим параметр md\n",
    "lk=[]\n",
    "lq=[]\n",
    "lc=[]\n",
    "for i in range(1,10):\n",
    "    md=i\n",
    "    rbuf=r31(ds,x,md)\n",
    "    lk.append(md)\n",
    "    lq.append(comp(rbuf, y))\n",
    "    lc.append(corr(rbuf,y))"
   ]
  },
  {
   "cell_type": "code",
   "execution_count": 256,
   "metadata": {
    "collapsed": false
   },
   "outputs": [
    {
     "data": {
      "text/plain": [
       "[<matplotlib.lines.Line2D at 0x7fdeb98ecbd0>]"
      ]
     },
     "execution_count": 256,
     "metadata": {},
     "output_type": "execute_result"
    },
    {
     "data": {
      "image/png": "[encoded data removed]",
      "text/plain": [
       "<matplotlib.figure.Figure at 0x7fdedd110990>"
      ]
     },
     "metadata": {},
     "output_type": "display_data"
    }
   ],
   "source": [
    "plot(lk,lq)"
   ]
  },
  {
   "cell_type": "code",
   "execution_count": 257,
   "metadata": {
    "collapsed": false
   },
   "outputs": [
    {
     "data": {
      "text/plain": [
       "[<matplotlib.lines.Line2D at 0x7fdebaafbe90>]"
      ]
     },
     "execution_count": 257,
     "metadata": {},
     "output_type": "execute_result"
    },
    {
     "data": {
      "image/png": "[encoded data removed]",
      "text/plain": [
       "<matplotlib.figure.Figure at 0x7fdeb9855810>"
      ]
     },
     "metadata": {},
     "output_type": "display_data"
    }
   ],
   "source": [
    "plot(lk,lc)"
   ]
  },
  {
   "cell_type": "code",
   "execution_count": null,
   "metadata": {
    "collapsed": true
   },
   "outputs": [],
   "source": [
    "# И у нас есть выбор!\n",
    "# Хорошей может быть и модель с md=2, и с md=4, и с md=7"
   ]
  },
  {
   "cell_type": "code",
   "execution_count": 258,
   "metadata": {
    "collapsed": false
   },
   "outputs": [
    {
     "data": {
      "text/plain": [
       "1.5    16232\n",
       "2.0     1783\n",
       "1.0     1501\n",
       "Name: s, dtype: int64"
      ]
     },
     "execution_count": 258,
     "metadata": {},
     "output_type": "execute_result"
    }
   ],
   "source": [
    "r31(ds,x,2)['s'].value_counts()"
   ]
  },
  {
   "cell_type": "code",
   "execution_count": 259,
   "metadata": {
    "collapsed": false
   },
   "outputs": [
    {
     "data": {
      "text/plain": [
       "1.5    14861\n",
       "1.0     2337\n",
       "2.0     2318\n",
       "Name: s, dtype: int64"
      ]
     },
     "execution_count": 259,
     "metadata": {},
     "output_type": "execute_result"
    }
   ],
   "source": [
    "r31(ds,x,4)['s'].value_counts()"
   ]
  },
  {
   "cell_type": "code",
   "execution_count": 260,
   "metadata": {
    "collapsed": false
   },
   "outputs": [
    {
     "data": {
      "text/plain": [
       "1.5    14342\n",
       "2.0     2768\n",
       "1.0     2406\n",
       "Name: s, dtype: int64"
      ]
     },
     "execution_count": 260,
     "metadata": {},
     "output_type": "execute_result"
    }
   ],
   "source": [
    "r31(ds,x,7)['s'].value_counts()"
   ]
  },
  {
   "cell_type": "code",
   "execution_count": 261,
   "metadata": {
    "collapsed": false
   },
   "outputs": [
    {
     "name": "stdout",
     "output_type": "stream",
     "text": [
      "('Sqr_div: ', 3249.25)\n",
      "('Correl: ', 0.092494219564085503)\n",
      "('Share: ', 0.44394343103094897)\n"
     ]
    }
   ],
   "source": [
    "# Выводим метрики качества\n",
    "acm(r31(ds,x,2),y)"
   ]
  },
  {
   "cell_type": "code",
   "execution_count": 262,
   "metadata": {
    "collapsed": false
   },
   "outputs": [
    {
     "name": "stdout",
     "output_type": "stream",
     "text": [
      "('Sqr_div: ', 3514.5)\n",
      "('Correl: ', 0.10335514738435987)\n",
      "('Share: ', 0.44261119081779055)\n"
     ]
    }
   ],
   "source": [
    "# Выводим метрики качества\n",
    "acm(r31(ds,x,4),y)"
   ]
  },
  {
   "cell_type": "code",
   "execution_count": 263,
   "metadata": {
    "collapsed": false
   },
   "outputs": [
    {
     "name": "stdout",
     "output_type": "stream",
     "text": [
      "('Sqr_div: ', 3603.25)\n",
      "('Correl: ', 0.10460510814613554)\n",
      "('Share: ', 0.4414839106374257)\n"
     ]
    }
   ],
   "source": [
    "# Выводим метрики качества\n",
    "acm(r31(ds,x,7),y)"
   ]
  },
  {
   "cell_type": "code",
   "execution_count": 264,
   "metadata": {
    "collapsed": true
   },
   "outputs": [],
   "source": [
    "# Ни корреляция, ни доля ничьих не такие важные параметры, чтобы выбрать что-то, кроме md=2\n",
    "# В любом случае, это худе чистого ЭЛО"
   ]
  },
  {
   "cell_type": "code",
   "execution_count": null,
   "metadata": {
    "collapsed": true
   },
   "outputs": [],
   "source": []
  }
 ],
 "metadata": {
  "celltoolbar": "Raw Cell Format",
  "kernelspec": {
   "display_name": "Python 2",
   "language": "python",
   "name": "python2"
  },
  "language_info": {
   "codemirror_mode": {
    "name": "ipython",
    "version": 2
   },
   "file_extension": ".py",
   "mimetype": "text/x-python",
   "name": "python",
   "nbconvert_exporter": "python",
   "pygments_lexer": "ipython2",
   "version": "2.7.13"
  }
 },
 "nbformat": 4,
 "nbformat_minor": 2
}
